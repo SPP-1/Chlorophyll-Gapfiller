{
 "cells": [
  {
   "cell_type": "code",
   "execution_count": 1,
   "id": "a1499407",
   "metadata": {},
   "outputs": [
    {
     "name": "stdout",
     "output_type": "stream",
     "text": [
      "[09:04:22] [0] Input: Y:\\Mingyue\\LISCO\\l2gen-matchup-product\\S2A_MSIL1C_20150802T155136_N0500_R011_T18TXL_20231016T221500.L2.nc\n",
      "[09:04:22] [0] Local: /Volumes/purkislab2a/Mingyue/LISCO/l2gen-matchup-product/S2A_MSIL1C_20150802T155136_N0500_R011_T18TXL_20231016T221500.L2.nc\n",
      "[09:05:09] [0] Scene: 5490x5490, geo=True, land≈61.3%\n",
      "[09:05:10] [Global variogram] exp: nugget=0.0314, sill=0.115, range≈44536\n",
      "[09:05:10] [Obs] thinned → 120,000\n",
      "[09:05:10] [Targets] 1,622,350 pixels to fill\n",
      "[09:06:02]   filled 1,622,350/1,622,350\n",
      "[09:06:03] [0] Newly filled pixels: 1622350\n"
     ]
    },
    {
     "name": "stderr",
     "output_type": "stream",
     "text": [
      "/var/folders/77/yb_ktv2d4vlfw_lrrj_xl8f40000gn/T/ipykernel_31061/1134916802.py:618: DeprecationWarning: datetime.datetime.utcnow() is deprecated and scheduled for removal in a future version. Use timezone-aware objects to represent datetimes in UTC: datetime.datetime.now(datetime.UTC).\n",
      "  stamp = datetime.utcnow().strftime(\"%Y-%m-%dT%H:%M:%SZ\")\n"
     ]
    },
    {
     "name": "stdout",
     "output_type": "stream",
     "text": [
      "[09:07:01] [0] seamless.nc written: /Volumes/purkislab2a/Mingyue/LISCO/krige_outputs_3/S2A_MSIL1C_20150802T155136_N0500_R011_T18TXL_20231016T221500.L2_seamless.nc\n",
      "[09:07:06] [1] Input: Y:\\Mingyue\\LISCO\\l2gen-matchup-product\\S2A_MSIL1C_20150901T155136_N0500_R011_T18TXL_20231017T091839.L2.nc\n",
      "[09:07:06] [1] Local: /Volumes/purkislab2a/Mingyue/LISCO/l2gen-matchup-product/S2A_MSIL1C_20150901T155136_N0500_R011_T18TXL_20231017T091839.L2.nc\n",
      "[09:07:11] [1] Scene: 5490x5490, geo=True, land≈61.3%\n",
      "[09:07:12] [Global variogram] exp: nugget=0.0171, sill=0.112, range≈44062\n",
      "[09:07:12] [Obs] thinned → 120,000\n",
      "[09:07:12] [Targets] 842,494 pixels to fill\n",
      "[09:07:38]   filled 842,494/842,494\n",
      "[09:07:39] [1] Newly filled pixels: 842494\n"
     ]
    },
    {
     "name": "stderr",
     "output_type": "stream",
     "text": [
      "/var/folders/77/yb_ktv2d4vlfw_lrrj_xl8f40000gn/T/ipykernel_31061/1134916802.py:618: DeprecationWarning: datetime.datetime.utcnow() is deprecated and scheduled for removal in a future version. Use timezone-aware objects to represent datetimes in UTC: datetime.datetime.now(datetime.UTC).\n",
      "  stamp = datetime.utcnow().strftime(\"%Y-%m-%dT%H:%M:%SZ\")\n"
     ]
    },
    {
     "name": "stdout",
     "output_type": "stream",
     "text": [
      "[09:08:36] [1] seamless.nc written: /Volumes/purkislab2a/Mingyue/LISCO/krige_outputs_3/S2A_MSIL1C_20150901T155136_N0500_R011_T18TXL_20231017T091839.L2_seamless.nc\n",
      "[09:08:41] [2] Input: Y:\\Mingyue\\LISCO\\l2gen-matchup-product\\S2A_MSIL1C_20151021T155022_N0500_R011_T18TXL_20231017T042402.L2.nc\n",
      "[09:08:41] [2] Local: /Volumes/purkislab2a/Mingyue/LISCO/l2gen-matchup-product/S2A_MSIL1C_20151021T155022_N0500_R011_T18TXL_20231017T042402.L2.nc\n",
      "[09:08:46] [2] Scene: 5490x5490, geo=True, land≈61.3%\n",
      "[09:08:46] [Global variogram] exp: nugget=0.0184, sill=0.0437, range≈43709\n",
      "[09:08:46] [Obs] thinned → 120,000\n",
      "[09:08:47] [Targets] 966,549 pixels to fill\n",
      "[09:09:16]   filled 966,549/966,549\n",
      "[09:09:17] [2] Newly filled pixels: 966549\n"
     ]
    },
    {
     "name": "stderr",
     "output_type": "stream",
     "text": [
      "/var/folders/77/yb_ktv2d4vlfw_lrrj_xl8f40000gn/T/ipykernel_31061/1134916802.py:618: DeprecationWarning: datetime.datetime.utcnow() is deprecated and scheduled for removal in a future version. Use timezone-aware objects to represent datetimes in UTC: datetime.datetime.now(datetime.UTC).\n",
      "  stamp = datetime.utcnow().strftime(\"%Y-%m-%dT%H:%M:%SZ\")\n"
     ]
    },
    {
     "name": "stdout",
     "output_type": "stream",
     "text": [
      "[09:10:12] [2] seamless.nc written: /Volumes/purkislab2a/Mingyue/LISCO/krige_outputs_3/S2A_MSIL1C_20151021T155022_N0500_R011_T18TXL_20231017T042402.L2_seamless.nc\n",
      "[09:10:17] [3] Input: Y:\\Mingyue\\LISCO\\l2gen-matchup-product\\S2A_MSIL1C_20151120T154542_N0500_R011_T18TXL_20231008T181730.L2.nc\n",
      "[09:10:17] [3] Local: /Volumes/purkislab2a/Mingyue/LISCO/l2gen-matchup-product/S2A_MSIL1C_20151120T154542_N0500_R011_T18TXL_20231008T181730.L2.nc\n",
      "[09:10:23] [3] Scene: 5490x5490, geo=True, land≈61.3%\n",
      "[09:10:23] [Global variogram] exp: nugget=0.00985, sill=0.031, range≈43103\n",
      "[09:10:24] [Obs] thinned → 120,000\n",
      "[09:10:24] [Targets] 1,716,643 pixels to fill\n",
      "[09:11:15]   filled 1,716,643/1,716,643\n",
      "[09:11:16] [3] Newly filled pixels: 1716643\n"
     ]
    },
    {
     "name": "stderr",
     "output_type": "stream",
     "text": [
      "/var/folders/77/yb_ktv2d4vlfw_lrrj_xl8f40000gn/T/ipykernel_31061/1134916802.py:618: DeprecationWarning: datetime.datetime.utcnow() is deprecated and scheduled for removal in a future version. Use timezone-aware objects to represent datetimes in UTC: datetime.datetime.now(datetime.UTC).\n",
      "  stamp = datetime.utcnow().strftime(\"%Y-%m-%dT%H:%M:%SZ\")\n"
     ]
    },
    {
     "name": "stdout",
     "output_type": "stream",
     "text": [
      "[09:12:15] [3] seamless.nc written: /Volumes/purkislab2a/Mingyue/LISCO/krige_outputs_3/S2A_MSIL1C_20151120T154542_N0500_R011_T18TXL_20231008T181730.L2_seamless.nc\n",
      "[09:12:20] [4] Input: Y:\\Mingyue\\LISCO\\l2gen-matchup-product\\S2A_MSIL1C_20151210T155132_N0500_R011_T18TXL_20231014T115701.L2.nc\n",
      "[09:12:20] [4] Local: /Volumes/purkislab2a/Mingyue/LISCO/l2gen-matchup-product/S2A_MSIL1C_20151210T155132_N0500_R011_T18TXL_20231014T115701.L2.nc\n",
      "[09:12:25] [4] Scene: 5490x5490, geo=True, land≈61.3%\n",
      "[09:12:26] [Global variogram] exp: nugget=0.00443, sill=0.029, range≈44748\n",
      "[09:12:26] [Obs] thinned → 120,000\n",
      "[09:12:26] [Targets] 499,367 pixels to fill\n",
      "[09:12:41]   filled 499,367/499,367\n",
      "[09:12:42] [4] Newly filled pixels: 499367\n"
     ]
    },
    {
     "name": "stderr",
     "output_type": "stream",
     "text": [
      "/var/folders/77/yb_ktv2d4vlfw_lrrj_xl8f40000gn/T/ipykernel_31061/1134916802.py:618: DeprecationWarning: datetime.datetime.utcnow() is deprecated and scheduled for removal in a future version. Use timezone-aware objects to represent datetimes in UTC: datetime.datetime.now(datetime.UTC).\n",
      "  stamp = datetime.utcnow().strftime(\"%Y-%m-%dT%H:%M:%SZ\")\n"
     ]
    },
    {
     "name": "stdout",
     "output_type": "stream",
     "text": [
      "[09:13:41] [4] seamless.nc written: /Volumes/purkislab2a/Mingyue/LISCO/krige_outputs_3/S2A_MSIL1C_20151210T155132_N0500_R011_T18TXL_20231014T115701.L2_seamless.nc\n",
      "[09:13:46] [5] Input: Y:\\Mingyue\\LISCO\\l2gen-matchup-product\\S2A_MSIL1C_20151220T154652_N0500_R011_T18TXL_20231014T182659.L2.nc\n",
      "[09:13:46] [5] Local: /Volumes/purkislab2a/Mingyue/LISCO/l2gen-matchup-product/S2A_MSIL1C_20151220T154652_N0500_R011_T18TXL_20231014T182659.L2.nc\n",
      "[09:13:51] [5] Scene: 5490x5490, geo=True, land≈61.3%\n",
      "[09:13:52] [Global variogram] exp: nugget=0.00569, sill=0.0296, range≈44266\n",
      "[09:13:52] [Obs] thinned → 120,000\n",
      "[09:13:52] [Targets] 833,452 pixels to fill\n",
      "[09:14:17]   filled 833,452/833,452\n",
      "[09:14:18] [5] Newly filled pixels: 833452\n"
     ]
    },
    {
     "name": "stderr",
     "output_type": "stream",
     "text": [
      "/var/folders/77/yb_ktv2d4vlfw_lrrj_xl8f40000gn/T/ipykernel_31061/1134916802.py:618: DeprecationWarning: datetime.datetime.utcnow() is deprecated and scheduled for removal in a future version. Use timezone-aware objects to represent datetimes in UTC: datetime.datetime.now(datetime.UTC).\n",
      "  stamp = datetime.utcnow().strftime(\"%Y-%m-%dT%H:%M:%SZ\")\n"
     ]
    },
    {
     "name": "stdout",
     "output_type": "stream",
     "text": [
      "[09:15:19] [5] seamless.nc written: /Volumes/purkislab2a/Mingyue/LISCO/krige_outputs_3/S2A_MSIL1C_20151220T154652_N0500_R011_T18TXL_20231014T182659.L2_seamless.nc\n",
      "[09:15:24] [6] Input: Y:\\Mingyue\\LISCO\\l2gen-matchup-product\\S2A_MSIL1C_20160309T155132_N0500_R011_T18TXL_20231013T085514.L2.nc\n",
      "[09:15:24] [6] Local: /Volumes/purkislab2a/Mingyue/LISCO/l2gen-matchup-product/S2A_MSIL1C_20160309T155132_N0500_R011_T18TXL_20231013T085514.L2.nc\n",
      "[09:15:29] [6] Scene: 5490x5490, geo=True, land≈61.3%\n",
      "[09:15:29] [Global variogram] exp: nugget=0.00768, sill=0.0458, range≈82202\n",
      "[09:15:30] [Obs] thinned → 120,000\n",
      "[09:15:30] [Targets] 443,732 pixels to fill\n",
      "[09:15:43]   filled 443,732/443,732\n",
      "[09:15:44] [6] Newly filled pixels: 443732\n"
     ]
    },
    {
     "name": "stderr",
     "output_type": "stream",
     "text": [
      "/var/folders/77/yb_ktv2d4vlfw_lrrj_xl8f40000gn/T/ipykernel_31061/1134916802.py:618: DeprecationWarning: datetime.datetime.utcnow() is deprecated and scheduled for removal in a future version. Use timezone-aware objects to represent datetimes in UTC: datetime.datetime.now(datetime.UTC).\n",
      "  stamp = datetime.utcnow().strftime(\"%Y-%m-%dT%H:%M:%SZ\")\n"
     ]
    },
    {
     "name": "stdout",
     "output_type": "stream",
     "text": [
      "[09:16:44] [6] seamless.nc written: /Volumes/purkislab2a/Mingyue/LISCO/krige_outputs_3/S2A_MSIL1C_20160309T155132_N0500_R011_T18TXL_20231013T085514.L2_seamless.nc\n",
      "[09:16:49] [7] Input: Y:\\Mingyue\\LISCO\\l2gen-matchup-product\\S2A_MSIL1C_20160418T153932_N0500_R011_T18TXL_20231031T015303.L2.nc\n",
      "[09:16:49] [7] Local: /Volumes/purkislab2a/Mingyue/LISCO/l2gen-matchup-product/S2A_MSIL1C_20160418T153932_N0500_R011_T18TXL_20231031T015303.L2.nc\n",
      "[09:16:54] [7] Scene: 5490x5490, geo=True, land≈61.3%\n",
      "[09:16:55] [Global variogram] exp: nugget=0.0111, sill=0.0555, range≈85666\n",
      "[09:16:55] [Obs] thinned → 120,000\n",
      "[09:16:55] [Targets] 817,546 pixels to fill\n",
      "[09:17:20]   filled 817,546/817,546\n",
      "[09:17:21] [7] Newly filled pixels: 817546\n"
     ]
    },
    {
     "name": "stderr",
     "output_type": "stream",
     "text": [
      "/var/folders/77/yb_ktv2d4vlfw_lrrj_xl8f40000gn/T/ipykernel_31061/1134916802.py:618: DeprecationWarning: datetime.datetime.utcnow() is deprecated and scheduled for removal in a future version. Use timezone-aware objects to represent datetimes in UTC: datetime.datetime.now(datetime.UTC).\n",
      "  stamp = datetime.utcnow().strftime(\"%Y-%m-%dT%H:%M:%SZ\")\n"
     ]
    },
    {
     "name": "stdout",
     "output_type": "stream",
     "text": [
      "[09:18:19] [7] seamless.nc written: /Volumes/purkislab2a/Mingyue/LISCO/krige_outputs_3/S2A_MSIL1C_20160418T153932_N0500_R011_T18TXL_20231031T015303.L2_seamless.nc\n",
      "[09:18:24] [8] Input: Y:\\Mingyue\\LISCO\\l2gen-matchup-product\\S2A_MSIL1C_20160607T155142_N0500_R011_T18TXL_20231016T032524.L2.nc\n",
      "[09:18:24] [8] Local: /Volumes/purkislab2a/Mingyue/LISCO/l2gen-matchup-product/S2A_MSIL1C_20160607T155142_N0500_R011_T18TXL_20231016T032524.L2.nc\n",
      "[09:18:28] [8] Scene: 5490x5490, geo=True, land≈61.3%\n",
      "[09:18:29] [Global variogram] exp: nugget=0.022, sill=0.0965, range≈88588\n",
      "[09:18:29] [Obs] thinned → 120,000\n",
      "[09:18:29] [Targets] 7,479,342 pixels to fill\n",
      "[09:22:16]   filled 7,479,342/7,479,342\n",
      "[09:22:17] [8] Newly filled pixels: 7479342\n"
     ]
    },
    {
     "name": "stderr",
     "output_type": "stream",
     "text": [
      "/var/folders/77/yb_ktv2d4vlfw_lrrj_xl8f40000gn/T/ipykernel_31061/1134916802.py:618: DeprecationWarning: datetime.datetime.utcnow() is deprecated and scheduled for removal in a future version. Use timezone-aware objects to represent datetimes in UTC: datetime.datetime.now(datetime.UTC).\n",
      "  stamp = datetime.utcnow().strftime(\"%Y-%m-%dT%H:%M:%SZ\")\n"
     ]
    },
    {
     "name": "stdout",
     "output_type": "stream",
     "text": [
      "[09:23:11] [8] seamless.nc written: /Volumes/purkislab2a/Mingyue/LISCO/krige_outputs_3/S2A_MSIL1C_20160607T155142_N0500_R011_T18TXL_20231016T032524.L2_seamless.nc\n",
      "[09:23:13] [9] Input: Y:\\Mingyue\\LISCO\\l2gen-matchup-product\\S2A_MSIL1C_20160727T153912_N0500_R011_T18TXL_20231005T092220.L2.nc\n",
      "[09:23:13] [9] Local: /Volumes/purkislab2a/Mingyue/LISCO/l2gen-matchup-product/S2A_MSIL1C_20160727T153912_N0500_R011_T18TXL_20231005T092220.L2.nc\n",
      "[09:23:19] [9] Scene: 5490x5490, geo=True, land≈61.3%\n",
      "[09:23:20] [Global variogram] exp: nugget=0.0142, sill=0.115, range≈44190\n",
      "[09:23:20] [Obs] thinned → 120,000\n",
      "[09:23:20] [Targets] 856,229 pixels to fill\n",
      "[09:23:46]   filled 856,229/856,229\n",
      "[09:23:47] [9] Newly filled pixels: 856229\n"
     ]
    },
    {
     "name": "stderr",
     "output_type": "stream",
     "text": [
      "/var/folders/77/yb_ktv2d4vlfw_lrrj_xl8f40000gn/T/ipykernel_31061/1134916802.py:618: DeprecationWarning: datetime.datetime.utcnow() is deprecated and scheduled for removal in a future version. Use timezone-aware objects to represent datetimes in UTC: datetime.datetime.now(datetime.UTC).\n",
      "  stamp = datetime.utcnow().strftime(\"%Y-%m-%dT%H:%M:%SZ\")\n"
     ]
    },
    {
     "name": "stdout",
     "output_type": "stream",
     "text": [
      "[09:24:53] [9] seamless.nc written: /Volumes/purkislab2a/Mingyue/LISCO/krige_outputs_3/S2A_MSIL1C_20160727T153912_N0500_R011_T18TXL_20231005T092220.L2_seamless.nc\n",
      "[09:24:58] [10] Input: Y:\\Mingyue\\LISCO\\l2gen-matchup-product\\S2A_MSIL1C_20160826T155132_N0500_R011_T18TXL_20231006T002557.L2.nc\n",
      "[09:24:58] [10] Local: /Volumes/purkislab2a/Mingyue/LISCO/l2gen-matchup-product/S2A_MSIL1C_20160826T155132_N0500_R011_T18TXL_20231006T002557.L2.nc\n",
      "[09:25:04] [10] Scene: 5490x5490, geo=True, land≈61.3%\n",
      "[09:25:05] [Global variogram] exp: nugget=0.0123, sill=0.0304, range≈42723\n",
      "[09:25:05] [Obs] thinned → 120,000\n",
      "[09:25:05] [Targets] 4,012,967 pixels to fill\n",
      "[09:27:07]   filled 4,012,967/4,012,967\n",
      "[09:27:08] [10] Newly filled pixels: 4012967\n"
     ]
    },
    {
     "name": "stderr",
     "output_type": "stream",
     "text": [
      "/var/folders/77/yb_ktv2d4vlfw_lrrj_xl8f40000gn/T/ipykernel_31061/1134916802.py:618: DeprecationWarning: datetime.datetime.utcnow() is deprecated and scheduled for removal in a future version. Use timezone-aware objects to represent datetimes in UTC: datetime.datetime.now(datetime.UTC).\n",
      "  stamp = datetime.utcnow().strftime(\"%Y-%m-%dT%H:%M:%SZ\")\n"
     ]
    },
    {
     "name": "stdout",
     "output_type": "stream",
     "text": [
      "[09:28:18] [10] seamless.nc written: /Volumes/purkislab2a/Mingyue/LISCO/krige_outputs_3/S2A_MSIL1C_20160826T155132_N0500_R011_T18TXL_20231006T002557.L2_seamless.nc\n",
      "[09:28:22] [11] Input: Y:\\Mingyue\\LISCO\\l2gen-matchup-product\\S2A_MSIL1C_20160915T155132_N0500_R011_T18TXL_20230929T151815.L2.nc\n",
      "[09:28:22] [11] Local: /Volumes/purkislab2a/Mingyue/LISCO/l2gen-matchup-product/S2A_MSIL1C_20160915T155132_N0500_R011_T18TXL_20230929T151815.L2.nc\n",
      "[09:28:42] [11] Scene: 5490x5490, geo=True, land≈61.3%\n",
      "[09:28:42] [Global variogram] exp: nugget=0.0227, sill=0.119, range≈43542\n",
      "[09:28:43] [Obs] thinned → 120,000\n",
      "[09:28:43] [Targets] 2,200,407 pixels to fill\n",
      "[09:30:05]   filled 2,200,407/2,200,407\n",
      "[09:30:08] [11] Newly filled pixels: 2200407\n"
     ]
    },
    {
     "name": "stderr",
     "output_type": "stream",
     "text": [
      "/var/folders/77/yb_ktv2d4vlfw_lrrj_xl8f40000gn/T/ipykernel_31061/1134916802.py:618: DeprecationWarning: datetime.datetime.utcnow() is deprecated and scheduled for removal in a future version. Use timezone-aware objects to represent datetimes in UTC: datetime.datetime.now(datetime.UTC).\n",
      "  stamp = datetime.utcnow().strftime(\"%Y-%m-%dT%H:%M:%SZ\")\n"
     ]
    },
    {
     "name": "stdout",
     "output_type": "stream",
     "text": [
      "[09:31:18] [11] seamless.nc written: /Volumes/purkislab2a/Mingyue/LISCO/krige_outputs_3/S2A_MSIL1C_20160915T155132_N0500_R011_T18TXL_20230929T151815.L2_seamless.nc\n",
      "[09:31:25] [12] Input: Y:\\Mingyue\\LISCO\\l2gen-matchup-product\\S2A_MSIL1C_20160925T154002_N0500_R011_T18TXL_20230930T145738.L2.nc\n",
      "[09:31:25] [12] Local: /Volumes/purkislab2a/Mingyue/LISCO/l2gen-matchup-product/S2A_MSIL1C_20160925T154002_N0500_R011_T18TXL_20230930T145738.L2.nc\n",
      "[09:31:33] [12] Scene: 5490x5490, geo=True, land≈61.3%\n",
      "[09:31:35] [Global variogram] exp: nugget=0.0405, sill=0.126, range≈44195\n",
      "[09:31:35] [Obs] thinned → 120,000\n",
      "[09:31:35] [Targets] 1,117,596 pixels to fill\n",
      "[09:32:14]   filled 1,117,596/1,117,596\n",
      "[09:32:15] [12] Newly filled pixels: 1117596\n"
     ]
    },
    {
     "name": "stderr",
     "output_type": "stream",
     "text": [
      "/var/folders/77/yb_ktv2d4vlfw_lrrj_xl8f40000gn/T/ipykernel_31061/1134916802.py:618: DeprecationWarning: datetime.datetime.utcnow() is deprecated and scheduled for removal in a future version. Use timezone-aware objects to represent datetimes in UTC: datetime.datetime.now(datetime.UTC).\n",
      "  stamp = datetime.utcnow().strftime(\"%Y-%m-%dT%H:%M:%SZ\")\n"
     ]
    },
    {
     "name": "stdout",
     "output_type": "stream",
     "text": [
      "[09:33:13] [12] seamless.nc written: /Volumes/purkislab2a/Mingyue/LISCO/krige_outputs_3/S2A_MSIL1C_20160925T154002_N0500_R011_T18TXL_20230930T145738.L2_seamless.nc\n",
      "[09:33:18] [13] Input: Y:\\Mingyue\\LISCO\\l2gen-matchup-product\\S2A_MSIL1C_20161005T155132_N0500_R011_T18TXL_20230922T142413.L2.nc\n",
      "[09:33:18] [13] Local: /Volumes/purkislab2a/Mingyue/LISCO/l2gen-matchup-product/S2A_MSIL1C_20161005T155132_N0500_R011_T18TXL_20230922T142413.L2.nc\n",
      "[09:33:23] [13] Scene: 5490x5490, geo=True, land≈61.3%\n",
      "[09:33:23] [Global variogram] exp: nugget=0.0109, sill=0.0426, range≈52345\n",
      "[09:33:24] [Obs] thinned → 120,000\n",
      "[09:33:24] [Targets] 4,759,673 pixels to fill\n",
      "[09:35:52]   filled 4,759,673/4,759,673\n",
      "[09:35:53] [13] Newly filled pixels: 4759673\n"
     ]
    },
    {
     "name": "stderr",
     "output_type": "stream",
     "text": [
      "/var/folders/77/yb_ktv2d4vlfw_lrrj_xl8f40000gn/T/ipykernel_31061/1134916802.py:618: DeprecationWarning: datetime.datetime.utcnow() is deprecated and scheduled for removal in a future version. Use timezone-aware objects to represent datetimes in UTC: datetime.datetime.now(datetime.UTC).\n",
      "  stamp = datetime.utcnow().strftime(\"%Y-%m-%dT%H:%M:%SZ\")\n"
     ]
    },
    {
     "name": "stdout",
     "output_type": "stream",
     "text": [
      "[09:36:51] [13] seamless.nc written: /Volumes/purkislab2a/Mingyue/LISCO/krige_outputs_3/S2A_MSIL1C_20161005T155132_N0500_R011_T18TXL_20230922T142413.L2_seamless.nc\n",
      "[09:36:54] [14] Input: Y:\\Mingyue\\LISCO\\l2gen-matchup-product\\S2A_MSIL1C_20161015T154222_N0500_R011_T18TXL_20230926T191650.L2.nc\n",
      "[09:36:54] [14] Local: /Volumes/purkislab2a/Mingyue/LISCO/l2gen-matchup-product/S2A_MSIL1C_20161015T154222_N0500_R011_T18TXL_20230926T191650.L2.nc\n",
      "[09:36:59] [14] Scene: 5490x5490, geo=True, land≈61.3%\n",
      "[09:37:00] [Global variogram] exp: nugget=0.0148, sill=0.0971, range≈43719\n",
      "[09:37:00] [Obs] thinned → 120,000\n",
      "[09:37:00] [Targets] 728,465 pixels to fill\n",
      "[09:37:24]   filled 728,465/728,465\n",
      "[09:37:25] [14] Newly filled pixels: 728465\n"
     ]
    },
    {
     "name": "stderr",
     "output_type": "stream",
     "text": [
      "/var/folders/77/yb_ktv2d4vlfw_lrrj_xl8f40000gn/T/ipykernel_31061/1134916802.py:618: DeprecationWarning: datetime.datetime.utcnow() is deprecated and scheduled for removal in a future version. Use timezone-aware objects to represent datetimes in UTC: datetime.datetime.now(datetime.UTC).\n",
      "  stamp = datetime.utcnow().strftime(\"%Y-%m-%dT%H:%M:%SZ\")\n"
     ]
    },
    {
     "name": "stdout",
     "output_type": "stream",
     "text": [
      "[09:38:25] [14] seamless.nc written: /Volumes/purkislab2a/Mingyue/LISCO/krige_outputs_3/S2A_MSIL1C_20161015T154222_N0500_R011_T18TXL_20230926T191650.L2_seamless.nc\n",
      "[09:38:29] [15] Input: Y:\\Mingyue\\LISCO\\l2gen-matchup-product\\S2A_MSIL1C_20161104T154422_N0500_R011_T18TXL_20230926T140033.L2.nc\n",
      "[09:38:29] [15] Local: /Volumes/purkislab2a/Mingyue/LISCO/l2gen-matchup-product/S2A_MSIL1C_20161104T154422_N0500_R011_T18TXL_20230926T140033.L2.nc\n",
      "[09:38:34] [15] Scene: 5490x5490, geo=True, land≈61.3%\n",
      "[09:38:35] [Global variogram] exp: nugget=0.0434, sill=0.128, range≈43389\n",
      "[09:38:35] [Obs] thinned → 120,000\n",
      "[09:38:35] [Targets] 2,487,654 pixels to fill\n",
      "[09:39:55]   filled 2,487,654/2,487,654\n",
      "[09:39:56] [15] Newly filled pixels: 2487654\n"
     ]
    },
    {
     "name": "stderr",
     "output_type": "stream",
     "text": [
      "/var/folders/77/yb_ktv2d4vlfw_lrrj_xl8f40000gn/T/ipykernel_31061/1134916802.py:618: DeprecationWarning: datetime.datetime.utcnow() is deprecated and scheduled for removal in a future version. Use timezone-aware objects to represent datetimes in UTC: datetime.datetime.now(datetime.UTC).\n",
      "  stamp = datetime.utcnow().strftime(\"%Y-%m-%dT%H:%M:%SZ\")\n"
     ]
    },
    {
     "name": "stdout",
     "output_type": "stream",
     "text": [
      "[09:41:01] [15] seamless.nc written: /Volumes/purkislab2a/Mingyue/LISCO/krige_outputs_3/S2A_MSIL1C_20161104T154422_N0500_R011_T18TXL_20230926T140033.L2_seamless.nc\n",
      "[09:41:05] [16] Input: Y:\\Mingyue\\LISCO\\l2gen-matchup-product\\S2A_MSIL1C_20161114T154522_N0500_R011_T18TXL_20230921T171309.L2.nc\n",
      "[09:41:05] [16] Local: /Volumes/purkislab2a/Mingyue/LISCO/l2gen-matchup-product/S2A_MSIL1C_20161114T154522_N0500_R011_T18TXL_20230921T171309.L2.nc\n",
      "[09:41:10] [16] Scene: 5490x5490, geo=True, land≈61.3%\n",
      "[09:41:11] [Global variogram] exp: nugget=0.0287, sill=0.0858, range≈43871\n",
      "[09:41:11] [Obs] thinned → 120,000\n",
      "[09:41:11] [Targets] 794,291 pixels to fill\n",
      "[09:41:36]   filled 794,291/794,291\n",
      "[09:41:37] [16] Newly filled pixels: 794291\n"
     ]
    },
    {
     "name": "stderr",
     "output_type": "stream",
     "text": [
      "/var/folders/77/yb_ktv2d4vlfw_lrrj_xl8f40000gn/T/ipykernel_31061/1134916802.py:618: DeprecationWarning: datetime.datetime.utcnow() is deprecated and scheduled for removal in a future version. Use timezone-aware objects to represent datetimes in UTC: datetime.datetime.now(datetime.UTC).\n",
      "  stamp = datetime.utcnow().strftime(\"%Y-%m-%dT%H:%M:%SZ\")\n"
     ]
    },
    {
     "name": "stdout",
     "output_type": "stream",
     "text": [
      "[09:42:36] [16] seamless.nc written: /Volumes/purkislab2a/Mingyue/LISCO/krige_outputs_3/S2A_MSIL1C_20161114T154522_N0500_R011_T18TXL_20230921T171309.L2_seamless.nc\n",
      "[09:42:42] [17] Input: Y:\\Mingyue\\LISCO\\l2gen-matchup-product\\S2A_MSIL1C_20161204T155132_N0500_R011_T18TXL_20230916T061711.L2.nc\n",
      "[09:42:42] [17] Local: /Volumes/purkislab2a/Mingyue/LISCO/l2gen-matchup-product/S2A_MSIL1C_20161204T155132_N0500_R011_T18TXL_20230916T061711.L2.nc\n",
      "[09:42:47] [17] Scene: 5490x5490, geo=True, land≈61.3%\n",
      "[09:42:48] [Global variogram] exp: nugget=0.0116, sill=0.0635, range≈44314\n",
      "[09:42:48] [Obs] thinned → 120,000\n",
      "[09:42:48] [Targets] 1,156,110 pixels to fill\n",
      "[09:43:25]   filled 1,156,110/1,156,110\n",
      "[09:43:26] [17] Newly filled pixels: 1156110\n"
     ]
    },
    {
     "name": "stderr",
     "output_type": "stream",
     "text": [
      "/var/folders/77/yb_ktv2d4vlfw_lrrj_xl8f40000gn/T/ipykernel_31061/1134916802.py:618: DeprecationWarning: datetime.datetime.utcnow() is deprecated and scheduled for removal in a future version. Use timezone-aware objects to represent datetimes in UTC: datetime.datetime.now(datetime.UTC).\n",
      "  stamp = datetime.utcnow().strftime(\"%Y-%m-%dT%H:%M:%SZ\")\n"
     ]
    },
    {
     "name": "stdout",
     "output_type": "stream",
     "text": [
      "[09:44:27] [17] seamless.nc written: /Volumes/purkislab2a/Mingyue/LISCO/krige_outputs_3/S2A_MSIL1C_20161204T155132_N0500_R011_T18TXL_20230916T061711.L2_seamless.nc\n",
      "[09:44:32] [18] Input: Y:\\Mingyue\\LISCO\\l2gen-matchup-product\\S2A_MSIL1C_20161214T154642_N0500_R011_T18TXL_20230920T102053.L2.nc\n",
      "[09:44:32] [18] Local: /Volumes/purkislab2a/Mingyue/LISCO/l2gen-matchup-product/S2A_MSIL1C_20161214T154642_N0500_R011_T18TXL_20230920T102053.L2.nc\n",
      "[09:44:38] [18] Scene: 5490x5490, geo=True, land≈61.3%\n",
      "[09:44:39] [Global variogram] exp: nugget=0.00742, sill=0.0414, range≈44388\n",
      "[09:44:40] [Obs] thinned → 120,000\n",
      "[09:44:40] [Targets] 519,279 pixels to fill\n",
      "[09:44:56]   filled 519,279/519,279\n",
      "[09:44:57] [18] Newly filled pixels: 519279\n"
     ]
    },
    {
     "name": "stderr",
     "output_type": "stream",
     "text": [
      "/var/folders/77/yb_ktv2d4vlfw_lrrj_xl8f40000gn/T/ipykernel_31061/1134916802.py:618: DeprecationWarning: datetime.datetime.utcnow() is deprecated and scheduled for removal in a future version. Use timezone-aware objects to represent datetimes in UTC: datetime.datetime.now(datetime.UTC).\n",
      "  stamp = datetime.utcnow().strftime(\"%Y-%m-%dT%H:%M:%SZ\")\n"
     ]
    },
    {
     "name": "stdout",
     "output_type": "stream",
     "text": [
      "[09:45:59] [18] seamless.nc written: /Volumes/purkislab2a/Mingyue/LISCO/krige_outputs_3/S2A_MSIL1C_20161214T154642_N0500_R011_T18TXL_20230920T102053.L2_seamless.nc\n",
      "[09:46:05] [19] Input: Y:\\Mingyue\\LISCO\\l2gen-matchup-product\\S2B_MSIL1C_20170408T155129_N0500_R011_T18TXL_20230901T181134.L2.nc\n",
      "[09:46:05] [19] Local: /Volumes/purkislab2a/Mingyue/LISCO/l2gen-matchup-product/S2B_MSIL1C_20170408T155129_N0500_R011_T18TXL_20230901T181134.L2.nc\n",
      "[09:46:10] [19] Scene: 5490x5490, geo=True, land≈61.3%\n",
      "[09:46:11] [Global variogram] exp: nugget=0.00515, sill=0.0493, range≈79085\n",
      "[09:46:11] [Obs] thinned → 120,000\n",
      "[09:46:11] [Targets] 2,122,044 pixels to fill\n",
      "[09:47:17]   filled 2,122,044/2,122,044\n",
      "[09:47:18] [19] Newly filled pixels: 2122044\n"
     ]
    },
    {
     "name": "stderr",
     "output_type": "stream",
     "text": [
      "/var/folders/77/yb_ktv2d4vlfw_lrrj_xl8f40000gn/T/ipykernel_31061/1134916802.py:618: DeprecationWarning: datetime.datetime.utcnow() is deprecated and scheduled for removal in a future version. Use timezone-aware objects to represent datetimes in UTC: datetime.datetime.now(datetime.UTC).\n",
      "  stamp = datetime.utcnow().strftime(\"%Y-%m-%dT%H:%M:%SZ\")\n"
     ]
    },
    {
     "name": "stdout",
     "output_type": "stream",
     "text": [
      "[09:48:16] [19] seamless.nc written: /Volumes/purkislab2a/Mingyue/LISCO/krige_outputs_3/S2B_MSIL1C_20170408T155129_N0500_R011_T18TXL_20230901T181134.L2_seamless.nc\n",
      "[09:48:20] [20] Input: Y:\\Mingyue\\LISCO\\l2gen-matchup-product\\S2A_MSIL1C_20170413T153911_N0500_R011_T18TXL_20230923T004200.L2.nc\n",
      "[09:48:20] [20] Local: /Volumes/purkislab2a/Mingyue/LISCO/l2gen-matchup-product/S2A_MSIL1C_20170413T153911_N0500_R011_T18TXL_20230923T004200.L2.nc\n",
      "[09:48:23] [20] Scene: 5490x5490, geo=True, land≈61.3%\n",
      "[09:48:24] [Global variogram] exp: nugget=0.0231, sill=0.129, range≈64342\n",
      "[09:48:24] [Obs] thinned → 120,000\n",
      "[09:48:24] [Targets] 11,489,168 pixels to fill\n",
      "[09:55:09]   filled 11,489,168/11,489,168\n",
      "[09:55:10] [20] Newly filled pixels: 11489168\n"
     ]
    },
    {
     "name": "stderr",
     "output_type": "stream",
     "text": [
      "/var/folders/77/yb_ktv2d4vlfw_lrrj_xl8f40000gn/T/ipykernel_31061/1134916802.py:618: DeprecationWarning: datetime.datetime.utcnow() is deprecated and scheduled for removal in a future version. Use timezone-aware objects to represent datetimes in UTC: datetime.datetime.now(datetime.UTC).\n",
      "  stamp = datetime.utcnow().strftime(\"%Y-%m-%dT%H:%M:%SZ\")\n"
     ]
    },
    {
     "name": "stdout",
     "output_type": "stream",
     "text": [
      "[09:55:57] [20] seamless.nc written: /Volumes/purkislab2a/Mingyue/LISCO/krige_outputs_3/S2A_MSIL1C_20170413T153911_N0500_R011_T18TXL_20230923T004200.L2_seamless.nc\n",
      "[09:55:58] [21] Input: Y:\\Mingyue\\LISCO\\l2gen-matchup-product\\S2B_MSIL1C_20170418T155129_N0500_R011_T18TXL_20230901T190940.L2.nc\n",
      "[09:55:58] [21] Local: /Volumes/purkislab2a/Mingyue/LISCO/l2gen-matchup-product/S2B_MSIL1C_20170418T155129_N0500_R011_T18TXL_20230901T190940.L2.nc\n",
      "[09:56:04] [21] Scene: 5490x5490, geo=True, land≈61.3%\n",
      "[09:56:05] [Global variogram] exp: nugget=0.00638, sill=0.0759, range≈45185\n",
      "[09:56:05] [Obs] thinned → 120,000\n",
      "[09:56:05] [Targets] 658,485 pixels to fill\n",
      "[09:56:26]   filled 658,485/658,485\n",
      "[09:56:27] [21] Newly filled pixels: 658485\n"
     ]
    },
    {
     "name": "stderr",
     "output_type": "stream",
     "text": [
      "/var/folders/77/yb_ktv2d4vlfw_lrrj_xl8f40000gn/T/ipykernel_31061/1134916802.py:618: DeprecationWarning: datetime.datetime.utcnow() is deprecated and scheduled for removal in a future version. Use timezone-aware objects to represent datetimes in UTC: datetime.datetime.now(datetime.UTC).\n",
      "  stamp = datetime.utcnow().strftime(\"%Y-%m-%dT%H:%M:%SZ\")\n"
     ]
    },
    {
     "name": "stdout",
     "output_type": "stream",
     "text": [
      "[09:58:05] [21] seamless.nc written: /Volumes/purkislab2a/Mingyue/LISCO/krige_outputs_3/S2B_MSIL1C_20170418T155129_N0500_R011_T18TXL_20230901T190940.L2_seamless.nc\n",
      "[09:58:11] [22] Input: Y:\\Mingyue\\LISCO\\l2gen-matchup-product\\S2A_MSIL1C_20170423T155131_N0500_R011_T18TXL_20230921T074114.L2.nc\n",
      "[09:58:11] [22] Local: /Volumes/purkislab2a/Mingyue/LISCO/l2gen-matchup-product/S2A_MSIL1C_20170423T155131_N0500_R011_T18TXL_20230921T074114.L2.nc\n",
      "[09:58:28] [22] Scene: 5490x5490, geo=True, land≈61.3%\n",
      "[09:58:29] [Global variogram] exp: nugget=0.0207, sill=0.131, range≈85610\n",
      "[09:58:29] [Obs] thinned → 120,000\n",
      "[09:58:29] [Targets] 1,699,321 pixels to fill\n",
      "[09:59:22]   filled 1,699,321/1,699,321\n",
      "[09:59:23] [22] Newly filled pixels: 1699321\n"
     ]
    },
    {
     "name": "stderr",
     "output_type": "stream",
     "text": [
      "/var/folders/77/yb_ktv2d4vlfw_lrrj_xl8f40000gn/T/ipykernel_31061/1134916802.py:618: DeprecationWarning: datetime.datetime.utcnow() is deprecated and scheduled for removal in a future version. Use timezone-aware objects to represent datetimes in UTC: datetime.datetime.now(datetime.UTC).\n",
      "  stamp = datetime.utcnow().strftime(\"%Y-%m-%dT%H:%M:%SZ\")\n"
     ]
    },
    {
     "name": "stdout",
     "output_type": "stream",
     "text": [
      "[10:00:59] [22] seamless.nc written: /Volumes/purkislab2a/Mingyue/LISCO/krige_outputs_3/S2A_MSIL1C_20170423T155131_N0500_R011_T18TXL_20230921T074114.L2_seamless.nc\n",
      "[10:01:05] [23] Input: Y:\\Mingyue\\LISCO\\l2gen-matchup-product\\S2B_MSIL1C_20170428T155129_N0500_R011_T18TXL_20230901T190142.L2.nc\n",
      "[10:01:05] [23] Local: /Volumes/purkislab2a/Mingyue/LISCO/l2gen-matchup-product/S2B_MSIL1C_20170428T155129_N0500_R011_T18TXL_20230901T190142.L2.nc\n",
      "[10:01:09] [23] Scene: 5490x5490, geo=True, land≈61.3%\n",
      "[10:01:10] [Global variogram] exp: nugget=0.00629, sill=0.0592, range≈83183\n",
      "[10:01:11] [Obs] thinned → 120,000\n",
      "[10:01:11] [Targets] 4,657,319 pixels to fill\n",
      "[10:03:40]   filled 4,657,319/4,657,319\n",
      "[10:03:41] [23] Newly filled pixels: 4657319\n"
     ]
    },
    {
     "name": "stderr",
     "output_type": "stream",
     "text": [
      "/var/folders/77/yb_ktv2d4vlfw_lrrj_xl8f40000gn/T/ipykernel_31061/1134916802.py:618: DeprecationWarning: datetime.datetime.utcnow() is deprecated and scheduled for removal in a future version. Use timezone-aware objects to represent datetimes in UTC: datetime.datetime.now(datetime.UTC).\n",
      "  stamp = datetime.utcnow().strftime(\"%Y-%m-%dT%H:%M:%SZ\")\n"
     ]
    },
    {
     "name": "stdout",
     "output_type": "stream",
     "text": [
      "[10:04:40] [23] seamless.nc written: /Volumes/purkislab2a/Mingyue/LISCO/krige_outputs_3/S2B_MSIL1C_20170428T155129_N0500_R011_T18TXL_20230901T190142.L2_seamless.nc\n",
      "[10:04:44] [24] Input: Y:\\Mingyue\\LISCO\\l2gen-matchup-product\\S2B_MSIL1C_20170518T155129_N0500_R011_T18TXL_20230901T163234.L2.nc\n",
      "[10:04:44] [24] Local: /Volumes/purkislab2a/Mingyue/LISCO/l2gen-matchup-product/S2B_MSIL1C_20170518T155129_N0500_R011_T18TXL_20230901T163234.L2.nc\n",
      "[10:04:49] [24] Scene: 5490x5490, geo=True, land≈61.3%\n",
      "[10:04:51] [Global variogram] exp: nugget=0.00615, sill=0.0218, range≈52863\n",
      "[10:04:51] [Obs] thinned → 120,000\n",
      "[10:04:52] [Targets] 4,765,084 pixels to fill\n",
      "[10:07:21]   filled 4,765,084/4,765,084\n",
      "[10:07:22] [24] Newly filled pixels: 4765084\n"
     ]
    },
    {
     "name": "stderr",
     "output_type": "stream",
     "text": [
      "/var/folders/77/yb_ktv2d4vlfw_lrrj_xl8f40000gn/T/ipykernel_31061/1134916802.py:618: DeprecationWarning: datetime.datetime.utcnow() is deprecated and scheduled for removal in a future version. Use timezone-aware objects to represent datetimes in UTC: datetime.datetime.now(datetime.UTC).\n",
      "  stamp = datetime.utcnow().strftime(\"%Y-%m-%dT%H:%M:%SZ\")\n"
     ]
    },
    {
     "name": "stdout",
     "output_type": "stream",
     "text": [
      "[10:08:40] [24] seamless.nc written: /Volumes/purkislab2a/Mingyue/LISCO/krige_outputs_3/S2B_MSIL1C_20170518T155129_N0500_R011_T18TXL_20230901T163234.L2_seamless.nc\n",
      "[10:08:44] [25] Input: Y:\\Mingyue\\LISCO\\l2gen-matchup-product\\S2B_MSIL1C_20170627T153909_N0500_R011_T18TXL_20230913T032813.L2.nc\n",
      "[10:08:44] [25] Local: /Volumes/purkislab2a/Mingyue/LISCO/l2gen-matchup-product/S2B_MSIL1C_20170627T153909_N0500_R011_T18TXL_20230913T032813.L2.nc\n",
      "[10:08:47] [25] Scene: 5490x5490, geo=True, land≈61.3%\n",
      "[10:08:48] [Global variogram] exp: nugget=0.011, sill=0.0364, range≈78990\n",
      "[10:08:48] [Obs] thinned → 120,000\n",
      "[10:08:48] [Targets] 10,533,523 pixels to fill\n",
      "[10:14:21]   filled 10,533,523/10,533,523\n",
      "[10:14:22] [25] Newly filled pixels: 10533523\n"
     ]
    },
    {
     "name": "stderr",
     "output_type": "stream",
     "text": [
      "/var/folders/77/yb_ktv2d4vlfw_lrrj_xl8f40000gn/T/ipykernel_31061/1134916802.py:618: DeprecationWarning: datetime.datetime.utcnow() is deprecated and scheduled for removal in a future version. Use timezone-aware objects to represent datetimes in UTC: datetime.datetime.now(datetime.UTC).\n",
      "  stamp = datetime.utcnow().strftime(\"%Y-%m-%dT%H:%M:%SZ\")\n"
     ]
    },
    {
     "name": "stdout",
     "output_type": "stream",
     "text": [
      "[10:15:08] [25] seamless.nc written: /Volumes/purkislab2a/Mingyue/LISCO/krige_outputs_3/S2B_MSIL1C_20170627T153909_N0500_R011_T18TXL_20230913T032813.L2_seamless.nc\n",
      "[10:15:09] [26] Input: Y:\\Mingyue\\LISCO\\l2gen-matchup-product\\S2A_MSIL1C_20170801T155131_N0500_R011_T18TXL_20230804T143331.L2.nc\n",
      "[10:15:09] [26] Local: /Volumes/purkislab2a/Mingyue/LISCO/l2gen-matchup-product/S2A_MSIL1C_20170801T155131_N0500_R011_T18TXL_20230804T143331.L2.nc\n",
      "[10:15:15] [26] Scene: 5490x5490, geo=True, land≈61.3%\n",
      "[10:15:16] [Global variogram] exp: nugget=0.0134, sill=0.135, range≈44043\n",
      "[10:15:16] [Obs] thinned → 120,000\n",
      "[10:15:16] [Targets] 1,232,535 pixels to fill\n",
      "[10:15:53]   filled 1,232,535/1,232,535\n",
      "[10:15:54] [26] Newly filled pixels: 1232535\n"
     ]
    },
    {
     "name": "stderr",
     "output_type": "stream",
     "text": [
      "/var/folders/77/yb_ktv2d4vlfw_lrrj_xl8f40000gn/T/ipykernel_31061/1134916802.py:618: DeprecationWarning: datetime.datetime.utcnow() is deprecated and scheduled for removal in a future version. Use timezone-aware objects to represent datetimes in UTC: datetime.datetime.now(datetime.UTC).\n",
      "  stamp = datetime.utcnow().strftime(\"%Y-%m-%dT%H:%M:%SZ\")\n"
     ]
    },
    {
     "name": "stdout",
     "output_type": "stream",
     "text": [
      "[10:16:52] [26] seamless.nc written: /Volumes/purkislab2a/Mingyue/LISCO/krige_outputs_3/S2A_MSIL1C_20170801T155131_N0500_R011_T18TXL_20230804T143331.L2_seamless.nc\n",
      "[10:16:56] [27] Input: Y:\\Mingyue\\LISCO\\l2gen-matchup-product\\S2B_MSIL1C_20170826T153859_N0500_R011_T18TXL_20230828T213614.L2.nc\n",
      "[10:16:56] [27] Local: /Volumes/purkislab2a/Mingyue/LISCO/l2gen-matchup-product/S2B_MSIL1C_20170826T153859_N0500_R011_T18TXL_20230828T213614.L2.nc\n",
      "[10:17:03] [27] Scene: 5490x5490, geo=True, land≈61.3%\n",
      "[10:17:04] [Global variogram] exp: nugget=0.0188, sill=0.148, range≈43778\n",
      "[10:17:04] [Obs] thinned → 120,000\n",
      "[10:17:04] [Targets] 1,029,688 pixels to fill\n",
      "[10:17:35]   filled 1,029,688/1,029,688\n",
      "[10:17:36] [27] Newly filled pixels: 1029688\n"
     ]
    },
    {
     "name": "stderr",
     "output_type": "stream",
     "text": [
      "/var/folders/77/yb_ktv2d4vlfw_lrrj_xl8f40000gn/T/ipykernel_31061/1134916802.py:618: DeprecationWarning: datetime.datetime.utcnow() is deprecated and scheduled for removal in a future version. Use timezone-aware objects to represent datetimes in UTC: datetime.datetime.now(datetime.UTC).\n",
      "  stamp = datetime.utcnow().strftime(\"%Y-%m-%dT%H:%M:%SZ\")\n"
     ]
    },
    {
     "name": "stdout",
     "output_type": "stream",
     "text": [
      "[10:18:36] [27] seamless.nc written: /Volumes/purkislab2a/Mingyue/LISCO/krige_outputs_3/S2B_MSIL1C_20170826T153859_N0500_R011_T18TXL_20230828T213614.L2_seamless.nc\n",
      "[10:18:40] [28] Input: Y:\\Mingyue\\LISCO\\l2gen-matchup-product\\S2B_MSIL1C_20170905T155129_N0500_R011_T18TXL_20230728T202035.L2.nc\n",
      "[10:18:40] [28] Local: /Volumes/purkislab2a/Mingyue/LISCO/l2gen-matchup-product/S2B_MSIL1C_20170905T155129_N0500_R011_T18TXL_20230728T202035.L2.nc\n",
      "[10:18:46] [28] Scene: 5490x5490, geo=True, land≈61.3%\n",
      "[10:18:47] [Global variogram] exp: nugget=0.00395, sill=0.0234, range≈42165\n",
      "[10:18:47] [Obs] thinned → 120,000\n",
      "[10:18:47] [Targets] 2,081,274 pixels to fill\n",
      "[10:19:49]   filled 2,081,274/2,081,274\n",
      "[10:19:50] [28] Newly filled pixels: 2081274\n"
     ]
    },
    {
     "name": "stderr",
     "output_type": "stream",
     "text": [
      "/var/folders/77/yb_ktv2d4vlfw_lrrj_xl8f40000gn/T/ipykernel_31061/1134916802.py:618: DeprecationWarning: datetime.datetime.utcnow() is deprecated and scheduled for removal in a future version. Use timezone-aware objects to represent datetimes in UTC: datetime.datetime.now(datetime.UTC).\n",
      "  stamp = datetime.utcnow().strftime(\"%Y-%m-%dT%H:%M:%SZ\")\n"
     ]
    },
    {
     "name": "stdout",
     "output_type": "stream",
     "text": [
      "[10:21:02] [28] seamless.nc written: /Volumes/purkislab2a/Mingyue/LISCO/krige_outputs_3/S2B_MSIL1C_20170905T155129_N0500_R011_T18TXL_20230728T202035.L2_seamless.nc\n",
      "[10:21:06] [29] Input: Y:\\Mingyue\\LISCO\\l2gen-matchup-product\\S2A_MSIL1C_20171020T155131_N0500_R011_T18TXL_20230728T164747.L2.nc\n",
      "[10:21:06] [29] Local: /Volumes/purkislab2a/Mingyue/LISCO/l2gen-matchup-product/S2A_MSIL1C_20171020T155131_N0500_R011_T18TXL_20230728T164747.L2.nc\n",
      "[10:21:13] [29] Scene: 5490x5490, geo=True, land≈61.3%\n",
      "[10:21:14] [Global variogram] exp: nugget=0.0195, sill=0.0445, range≈43653\n",
      "[10:21:14] [Obs] thinned → 120,000\n",
      "[10:21:14] [Targets] 737,261 pixels to fill\n",
      "[10:21:36]   filled 737,261/737,261\n",
      "[10:21:37] [29] Newly filled pixels: 737261\n"
     ]
    },
    {
     "name": "stderr",
     "output_type": "stream",
     "text": [
      "/var/folders/77/yb_ktv2d4vlfw_lrrj_xl8f40000gn/T/ipykernel_31061/1134916802.py:618: DeprecationWarning: datetime.datetime.utcnow() is deprecated and scheduled for removal in a future version. Use timezone-aware objects to represent datetimes in UTC: datetime.datetime.now(datetime.UTC).\n",
      "  stamp = datetime.utcnow().strftime(\"%Y-%m-%dT%H:%M:%SZ\")\n"
     ]
    },
    {
     "name": "stdout",
     "output_type": "stream",
     "text": [
      "[10:22:41] [29] seamless.nc written: /Volumes/purkislab2a/Mingyue/LISCO/krige_outputs_3/S2A_MSIL1C_20171020T155131_N0500_R011_T18TXL_20230728T164747.L2_seamless.nc\n",
      "[10:22:45] [30] Input: Y:\\Mingyue\\LISCO\\l2gen-matchup-product\\S2A_MSIL1C_20171109T155131_N0500_R011_T18TXL_20230721T165707.L2.nc\n",
      "[10:22:45] [30] Local: /Volumes/purkislab2a/Mingyue/LISCO/l2gen-matchup-product/S2A_MSIL1C_20171109T155131_N0500_R011_T18TXL_20230721T165707.L2.nc\n",
      "[10:22:50] [30] Scene: 5490x5490, geo=True, land≈61.3%\n",
      "[10:22:51] [Global variogram] exp: nugget=0.00719, sill=0.02, range≈45302\n",
      "[10:22:51] [Obs] thinned → 120,000\n",
      "[10:22:51] [Targets] 1,756,970 pixels to fill\n",
      "[10:23:44]   filled 1,756,970/1,756,970\n",
      "[10:23:45] [30] Newly filled pixels: 1756970\n"
     ]
    },
    {
     "name": "stderr",
     "output_type": "stream",
     "text": [
      "/var/folders/77/yb_ktv2d4vlfw_lrrj_xl8f40000gn/T/ipykernel_31061/1134916802.py:618: DeprecationWarning: datetime.datetime.utcnow() is deprecated and scheduled for removal in a future version. Use timezone-aware objects to represent datetimes in UTC: datetime.datetime.now(datetime.UTC).\n",
      "  stamp = datetime.utcnow().strftime(\"%Y-%m-%dT%H:%M:%SZ\")\n"
     ]
    },
    {
     "name": "stdout",
     "output_type": "stream",
     "text": [
      "[10:24:50] [30] seamless.nc written: /Volumes/purkislab2a/Mingyue/LISCO/krige_outputs_3/S2A_MSIL1C_20171109T155131_N0500_R011_T18TXL_20230721T165707.L2_seamless.nc\n",
      "[10:24:51] [31] Input: Y:\\Mingyue\\LISCO\\l2gen-matchup-product\\S2A_MSIL1C_20171129T155131_N0500_R011_T18TXL_20230825T025755.L2.nc\n",
      "[10:24:51] [31] Local: /Volumes/purkislab2a/Mingyue/LISCO/l2gen-matchup-product/S2A_MSIL1C_20171129T155131_N0500_R011_T18TXL_20230825T025755.L2.nc\n",
      "[10:24:56] [31] Scene: 5490x5490, geo=True, land≈61.3%\n",
      "[10:24:57] [Global variogram] exp: nugget=0.0168, sill=0.0562, range≈43935\n",
      "[10:24:57] [Obs] thinned → 120,000\n",
      "[10:24:57] [Targets] 1,911,592 pixels to fill\n",
      "[10:25:54]   filled 1,911,592/1,911,592\n",
      "[10:25:55] [31] Newly filled pixels: 1911592\n"
     ]
    },
    {
     "name": "stderr",
     "output_type": "stream",
     "text": [
      "/var/folders/77/yb_ktv2d4vlfw_lrrj_xl8f40000gn/T/ipykernel_31061/1134916802.py:618: DeprecationWarning: datetime.datetime.utcnow() is deprecated and scheduled for removal in a future version. Use timezone-aware objects to represent datetimes in UTC: datetime.datetime.now(datetime.UTC).\n",
      "  stamp = datetime.utcnow().strftime(\"%Y-%m-%dT%H:%M:%SZ\")\n"
     ]
    },
    {
     "name": "stdout",
     "output_type": "stream",
     "text": [
      "[10:26:59] [31] seamless.nc written: /Volumes/purkislab2a/Mingyue/LISCO/krige_outputs_3/S2A_MSIL1C_20171129T155131_N0500_R011_T18TXL_20230825T025755.L2_seamless.nc\n",
      "[10:27:03] [32] Input: Y:\\Mingyue\\LISCO\\l2gen-matchup-product\\S2A_MSIL1C_20180118T154551_N0500_R011_T18TXL_20230802T041756.L2.nc\n",
      "[10:27:03] [32] Local: /Volumes/purkislab2a/Mingyue/LISCO/l2gen-matchup-product/S2A_MSIL1C_20180118T154551_N0500_R011_T18TXL_20230802T041756.L2.nc\n",
      "[10:27:09] [32] Scene: 5490x5490, geo=True, land≈61.3%\n",
      "[10:27:10] [Global variogram] exp: nugget=0.0174, sill=0.0739, range≈43871\n",
      "[10:27:10] [Obs] thinned → 120,000\n",
      "[10:27:10] [Targets] 865,778 pixels to fill\n",
      "[10:27:36]   filled 865,778/865,778\n",
      "[10:27:37] [32] Newly filled pixels: 865778\n"
     ]
    },
    {
     "name": "stderr",
     "output_type": "stream",
     "text": [
      "/var/folders/77/yb_ktv2d4vlfw_lrrj_xl8f40000gn/T/ipykernel_31061/1134916802.py:618: DeprecationWarning: datetime.datetime.utcnow() is deprecated and scheduled for removal in a future version. Use timezone-aware objects to represent datetimes in UTC: datetime.datetime.now(datetime.UTC).\n",
      "  stamp = datetime.utcnow().strftime(\"%Y-%m-%dT%H:%M:%SZ\")\n"
     ]
    },
    {
     "name": "stdout",
     "output_type": "stream",
     "text": [
      "[10:28:39] [32] seamless.nc written: /Volumes/purkislab2a/Mingyue/LISCO/krige_outputs_3/S2A_MSIL1C_20180118T154551_N0500_R011_T18TXL_20230802T041756.L2_seamless.nc\n",
      "[10:28:44] [33] Input: Y:\\Mingyue\\LISCO\\l2gen-matchup-product\\S2A_MSIL1C_20180227T154211_N0500_R011_T18TXL_20230902T090543.L2.nc\n",
      "[10:28:44] [33] Local: /Volumes/purkislab2a/Mingyue/LISCO/l2gen-matchup-product/S2A_MSIL1C_20180227T154211_N0500_R011_T18TXL_20230902T090543.L2.nc\n",
      "[10:28:49] [33] Scene: 5490x5490, geo=True, land≈61.3%\n",
      "[10:28:50] [Global variogram] exp: nugget=0.0275, sill=0.133, range≈43939\n",
      "[10:28:50] [Obs] thinned → 120,000\n",
      "[10:28:50] [Targets] 592,984 pixels to fill\n",
      "[10:29:08]   filled 592,984/592,984\n",
      "[10:29:09] [33] Newly filled pixels: 592984\n"
     ]
    },
    {
     "name": "stderr",
     "output_type": "stream",
     "text": [
      "/var/folders/77/yb_ktv2d4vlfw_lrrj_xl8f40000gn/T/ipykernel_31061/1134916802.py:618: DeprecationWarning: datetime.datetime.utcnow() is deprecated and scheduled for removal in a future version. Use timezone-aware objects to represent datetimes in UTC: datetime.datetime.now(datetime.UTC).\n",
      "  stamp = datetime.utcnow().strftime(\"%Y-%m-%dT%H:%M:%SZ\")\n"
     ]
    },
    {
     "name": "stdout",
     "output_type": "stream",
     "text": [
      "[10:30:03] [33] seamless.nc written: /Volumes/purkislab2a/Mingyue/LISCO/krige_outputs_3/S2A_MSIL1C_20180227T154211_N0500_R011_T18TXL_20230902T090543.L2_seamless.nc\n",
      "[10:30:08] [34] Input: Y:\\Mingyue\\LISCO\\l2gen-matchup-product\\S2A_MSIL1C_20180319T153941_N0500_R011_T18TXL_20230919T002843.L2.nc\n",
      "[10:30:08] [34] Local: /Volumes/purkislab2a/Mingyue/LISCO/l2gen-matchup-product/S2A_MSIL1C_20180319T153941_N0500_R011_T18TXL_20230919T002843.L2.nc\n",
      "[10:30:17] [34] Scene: 5490x5490, geo=True, land≈61.3%\n",
      "[10:30:18] [Global variogram] exp: nugget=0.0288, sill=0.138, range≈44621\n",
      "[10:30:18] [Obs] thinned → 120,000\n",
      "[10:30:18] [Targets] 554,729 pixels to fill\n",
      "[10:30:34]   filled 554,729/554,729\n",
      "[10:30:35] [34] Newly filled pixels: 554729\n"
     ]
    },
    {
     "name": "stderr",
     "output_type": "stream",
     "text": [
      "/var/folders/77/yb_ktv2d4vlfw_lrrj_xl8f40000gn/T/ipykernel_31061/1134916802.py:618: DeprecationWarning: datetime.datetime.utcnow() is deprecated and scheduled for removal in a future version. Use timezone-aware objects to represent datetimes in UTC: datetime.datetime.now(datetime.UTC).\n",
      "  stamp = datetime.utcnow().strftime(\"%Y-%m-%dT%H:%M:%SZ\")\n"
     ]
    },
    {
     "name": "stdout",
     "output_type": "stream",
     "text": [
      "[10:31:37] [34] seamless.nc written: /Volumes/purkislab2a/Mingyue/LISCO/krige_outputs_3/S2A_MSIL1C_20180319T153941_N0500_R011_T18TXL_20230919T002843.L2_seamless.nc\n",
      "[10:31:42] [35] Input: Y:\\Mingyue\\LISCO\\l2gen-matchup-product\\S2B_MSIL1C_20180324T153909_N0500_R011_T18TXL_20230904T205918.L2.nc\n",
      "[10:31:42] [35] Local: /Volumes/purkislab2a/Mingyue/LISCO/l2gen-matchup-product/S2B_MSIL1C_20180324T153909_N0500_R011_T18TXL_20230904T205918.L2.nc\n",
      "[10:31:49] [35] Scene: 5490x5490, geo=True, land≈61.3%\n",
      "[10:31:50] [Global variogram] exp: nugget=0.00841, sill=0.108, range≈76591\n",
      "[10:31:50] [Obs] thinned → 120,000\n",
      "[10:31:50] [Targets] 600,896 pixels to fill\n",
      "[10:32:08]   filled 600,896/600,896\n",
      "[10:32:09] [35] Newly filled pixels: 600896\n"
     ]
    },
    {
     "name": "stderr",
     "output_type": "stream",
     "text": [
      "/var/folders/77/yb_ktv2d4vlfw_lrrj_xl8f40000gn/T/ipykernel_31061/1134916802.py:618: DeprecationWarning: datetime.datetime.utcnow() is deprecated and scheduled for removal in a future version. Use timezone-aware objects to represent datetimes in UTC: datetime.datetime.now(datetime.UTC).\n",
      "  stamp = datetime.utcnow().strftime(\"%Y-%m-%dT%H:%M:%SZ\")\n"
     ]
    },
    {
     "name": "stdout",
     "output_type": "stream",
     "text": [
      "[10:33:14] [35] seamless.nc written: /Volumes/purkislab2a/Mingyue/LISCO/krige_outputs_3/S2B_MSIL1C_20180324T153909_N0500_R011_T18TXL_20230904T205918.L2_seamless.nc\n",
      "[10:33:18] [36] Input: Y:\\Mingyue\\LISCO\\l2gen-matchup-product\\S2A_MSIL1C_20180408T153911_N0500_R011_T18TXL_20230908T202559.L2.nc\n",
      "[10:33:18] [36] Local: /Volumes/purkislab2a/Mingyue/LISCO/l2gen-matchup-product/S2A_MSIL1C_20180408T153911_N0500_R011_T18TXL_20230908T202559.L2.nc\n",
      "[10:33:24] [36] Scene: 5490x5490, geo=True, land≈61.3%\n",
      "[10:33:24] [Global variogram] exp: nugget=0.0441, sill=0.117, range≈44287\n",
      "[10:33:24] [Obs] thinned → 120,000\n",
      "[10:33:25] [Targets] 1,060,997 pixels to fill\n",
      "[10:34:02]   filled 1,060,997/1,060,997\n",
      "[10:34:03] [36] Newly filled pixels: 1060997\n"
     ]
    },
    {
     "name": "stderr",
     "output_type": "stream",
     "text": [
      "/var/folders/77/yb_ktv2d4vlfw_lrrj_xl8f40000gn/T/ipykernel_31061/1134916802.py:618: DeprecationWarning: datetime.datetime.utcnow() is deprecated and scheduled for removal in a future version. Use timezone-aware objects to represent datetimes in UTC: datetime.datetime.now(datetime.UTC).\n",
      "  stamp = datetime.utcnow().strftime(\"%Y-%m-%dT%H:%M:%SZ\")\n"
     ]
    },
    {
     "name": "stdout",
     "output_type": "stream",
     "text": [
      "[10:35:13] [36] seamless.nc written: /Volumes/purkislab2a/Mingyue/LISCO/krige_outputs_3/S2A_MSIL1C_20180408T153911_N0500_R011_T18TXL_20230908T202559.L2_seamless.nc\n",
      "[10:35:19] [37] Input: Y:\\Mingyue\\LISCO\\l2gen-matchup-product\\S2B_MSIL1C_20180423T153909_N0500_R011_T18TXL_20230906T045248.L2.nc\n",
      "[10:35:19] [37] Local: /Volumes/purkislab2a/Mingyue/LISCO/l2gen-matchup-product/S2B_MSIL1C_20180423T153909_N0500_R011_T18TXL_20230906T045248.L2.nc\n",
      "[10:35:30] [37] Scene: 5490x5490, geo=True, land≈61.3%\n",
      "[10:35:31] [Global variogram] exp: nugget=0.00478, sill=0.109, range≈72039\n",
      "[10:35:31] [Obs] thinned → 120,000\n",
      "[10:35:31] [Targets] 651,178 pixels to fill\n",
      "[10:35:52]   filled 651,178/651,178\n",
      "[10:35:53] [37] Newly filled pixels: 651178\n"
     ]
    },
    {
     "name": "stderr",
     "output_type": "stream",
     "text": [
      "/var/folders/77/yb_ktv2d4vlfw_lrrj_xl8f40000gn/T/ipykernel_31061/1134916802.py:618: DeprecationWarning: datetime.datetime.utcnow() is deprecated and scheduled for removal in a future version. Use timezone-aware objects to represent datetimes in UTC: datetime.datetime.now(datetime.UTC).\n",
      "  stamp = datetime.utcnow().strftime(\"%Y-%m-%dT%H:%M:%SZ\")\n"
     ]
    },
    {
     "name": "stdout",
     "output_type": "stream",
     "text": [
      "[10:36:57] [37] seamless.nc written: /Volumes/purkislab2a/Mingyue/LISCO/krige_outputs_3/S2B_MSIL1C_20180423T153909_N0500_R011_T18TXL_20230906T045248.L2_seamless.nc\n",
      "[10:37:03] [38] Input: Y:\\Mingyue\\LISCO\\l2gen-matchup-product\\S2A_MSIL1C_20180428T153911_N0500_R011_T18TXL_20230804T055922.L2.nc\n",
      "[10:37:03] [38] Local: /Volumes/purkislab2a/Mingyue/LISCO/l2gen-matchup-product/S2A_MSIL1C_20180428T153911_N0500_R011_T18TXL_20230804T055922.L2.nc\n",
      "[10:37:08] [38] Scene: 5490x5490, geo=True, land≈61.3%\n",
      "[10:37:08] [Global variogram] exp: nugget=0.0132, sill=0.0324, range≈38169\n",
      "[10:37:08] [Obs] thinned → 120,000\n",
      "[10:37:09] [Targets] 6,569,080 pixels to fill\n",
      "[10:40:54]   filled 6,569,080/6,569,080\n",
      "[10:40:55] [38] Newly filled pixels: 6569080\n"
     ]
    },
    {
     "name": "stderr",
     "output_type": "stream",
     "text": [
      "/var/folders/77/yb_ktv2d4vlfw_lrrj_xl8f40000gn/T/ipykernel_31061/1134916802.py:618: DeprecationWarning: datetime.datetime.utcnow() is deprecated and scheduled for removal in a future version. Use timezone-aware objects to represent datetimes in UTC: datetime.datetime.now(datetime.UTC).\n",
      "  stamp = datetime.utcnow().strftime(\"%Y-%m-%dT%H:%M:%SZ\")\n"
     ]
    },
    {
     "name": "stdout",
     "output_type": "stream",
     "text": [
      "[10:41:54] [38] seamless.nc written: /Volumes/purkislab2a/Mingyue/LISCO/krige_outputs_3/S2A_MSIL1C_20180428T153911_N0500_R011_T18TXL_20230804T055922.L2_seamless.nc\n",
      "[10:41:58] [39] Input: Y:\\Mingyue\\LISCO\\l2gen-matchup-product\\S2A_MSIL1C_20180508T153911_N0500_R011_T18TXL_20230718T063105.L2.nc\n",
      "[10:41:58] [39] Local: /Volumes/purkislab2a/Mingyue/LISCO/l2gen-matchup-product/S2A_MSIL1C_20180508T153911_N0500_R011_T18TXL_20230718T063105.L2.nc\n",
      "[10:42:04] [39] Scene: 5490x5490, geo=True, land≈61.3%\n",
      "[10:42:04] [Global variogram] exp: nugget=0.0384, sill=0.125, range≈43206\n",
      "[10:42:04] [Obs] thinned → 120,000\n",
      "[10:42:05] [Targets] 4,765,741 pixels to fill\n",
      "[10:44:36]   filled 4,765,741/4,765,741\n",
      "[10:44:37] [39] Newly filled pixels: 4765741\n"
     ]
    },
    {
     "name": "stderr",
     "output_type": "stream",
     "text": [
      "/var/folders/77/yb_ktv2d4vlfw_lrrj_xl8f40000gn/T/ipykernel_31061/1134916802.py:618: DeprecationWarning: datetime.datetime.utcnow() is deprecated and scheduled for removal in a future version. Use timezone-aware objects to represent datetimes in UTC: datetime.datetime.now(datetime.UTC).\n",
      "  stamp = datetime.utcnow().strftime(\"%Y-%m-%dT%H:%M:%SZ\")\n"
     ]
    },
    {
     "name": "stdout",
     "output_type": "stream",
     "text": [
      "[10:45:41] [39] seamless.nc written: /Volumes/purkislab2a/Mingyue/LISCO/krige_outputs_3/S2A_MSIL1C_20180508T153911_N0500_R011_T18TXL_20230718T063105.L2_seamless.nc\n",
      "[10:45:45] [40] Input: Y:\\Mingyue\\LISCO\\l2gen-matchup-product\\S2B_MSIL1C_20180602T153859_N0500_R011_T18TXL_20230716T013053.L2.nc\n",
      "[10:45:45] [40] Local: /Volumes/purkislab2a/Mingyue/LISCO/l2gen-matchup-product/S2B_MSIL1C_20180602T153859_N0500_R011_T18TXL_20230716T013053.L2.nc\n",
      "[10:45:50] [40] Scene: 5490x5490, geo=True, land≈61.3%\n",
      "[10:45:50] [Global variogram] exp: nugget=0.00545, sill=0.034, range≈40078\n",
      "[10:45:51] [Obs] thinned → 120,000\n",
      "[10:45:51] [Targets] 3,345,707 pixels to fill\n",
      "[10:47:45]   filled 3,345,707/3,345,707\n",
      "[10:47:46] [40] Newly filled pixels: 3345707\n"
     ]
    },
    {
     "name": "stderr",
     "output_type": "stream",
     "text": [
      "/var/folders/77/yb_ktv2d4vlfw_lrrj_xl8f40000gn/T/ipykernel_31061/1134916802.py:618: DeprecationWarning: datetime.datetime.utcnow() is deprecated and scheduled for removal in a future version. Use timezone-aware objects to represent datetimes in UTC: datetime.datetime.now(datetime.UTC).\n",
      "  stamp = datetime.utcnow().strftime(\"%Y-%m-%dT%H:%M:%SZ\")\n"
     ]
    },
    {
     "name": "stdout",
     "output_type": "stream",
     "text": [
      "[10:48:49] [40] seamless.nc written: /Volumes/purkislab2a/Mingyue/LISCO/krige_outputs_3/S2B_MSIL1C_20180602T153859_N0500_R011_T18TXL_20230716T013053.L2_seamless.nc\n",
      "[10:48:56] [41] Input: Y:\\Mingyue\\LISCO\\l2gen-matchup-product\\S2A_MSIL1C_20180617T153911_N0500_R011_T18TXL_20230902T104916.L2.nc\n",
      "[10:48:56] [41] Local: /Volumes/purkislab2a/Mingyue/LISCO/l2gen-matchup-product/S2A_MSIL1C_20180617T153911_N0500_R011_T18TXL_20230902T104916.L2.nc\n",
      "[10:49:02] [41] Scene: 5490x5490, geo=True, land≈61.3%\n",
      "[10:49:03] [Global variogram] exp: nugget=0.0256, sill=0.0971, range≈44152\n",
      "[10:49:03] [Obs] thinned → 120,000\n",
      "[10:49:03] [Targets] 1,869,913 pixels to fill\n",
      "[10:50:03]   filled 1,869,913/1,869,913\n",
      "[10:50:04] [41] Newly filled pixels: 1869913\n"
     ]
    },
    {
     "name": "stderr",
     "output_type": "stream",
     "text": [
      "/var/folders/77/yb_ktv2d4vlfw_lrrj_xl8f40000gn/T/ipykernel_31061/1134916802.py:618: DeprecationWarning: datetime.datetime.utcnow() is deprecated and scheduled for removal in a future version. Use timezone-aware objects to represent datetimes in UTC: datetime.datetime.now(datetime.UTC).\n",
      "  stamp = datetime.utcnow().strftime(\"%Y-%m-%dT%H:%M:%SZ\")\n"
     ]
    },
    {
     "name": "stdout",
     "output_type": "stream",
     "text": [
      "[10:51:06] [41] seamless.nc written: /Volumes/purkislab2a/Mingyue/LISCO/krige_outputs_3/S2A_MSIL1C_20180617T153911_N0500_R011_T18TXL_20230902T104916.L2_seamless.nc\n",
      "[10:51:12] [42] Input: Y:\\Mingyue\\LISCO\\l2gen-matchup-product\\S2B_MSIL1C_20180702T153809_N0500_R011_T18TXL_20230712T182118.L2.nc\n",
      "[10:51:12] [42] Local: /Volumes/purkislab2a/Mingyue/LISCO/l2gen-matchup-product/S2B_MSIL1C_20180702T153809_N0500_R011_T18TXL_20230712T182118.L2.nc\n",
      "[10:51:17] [42] Scene: 5490x5490, geo=True, land≈61.3%\n",
      "[10:51:18] [Global variogram] exp: nugget=0.00572, sill=0.056, range≈80811\n",
      "[10:51:18] [Obs] thinned → 120,000\n",
      "[10:51:18] [Targets] 6,800,225 pixels to fill\n",
      "[10:54:58]   filled 6,800,225/6,800,225\n",
      "[10:54:59] [42] Newly filled pixels: 6800225\n"
     ]
    },
    {
     "name": "stderr",
     "output_type": "stream",
     "text": [
      "/var/folders/77/yb_ktv2d4vlfw_lrrj_xl8f40000gn/T/ipykernel_31061/1134916802.py:618: DeprecationWarning: datetime.datetime.utcnow() is deprecated and scheduled for removal in a future version. Use timezone-aware objects to represent datetimes in UTC: datetime.datetime.now(datetime.UTC).\n",
      "  stamp = datetime.utcnow().strftime(\"%Y-%m-%dT%H:%M:%SZ\")\n"
     ]
    },
    {
     "name": "stdout",
     "output_type": "stream",
     "text": [
      "[10:56:00] [42] seamless.nc written: /Volumes/purkislab2a/Mingyue/LISCO/krige_outputs_3/S2B_MSIL1C_20180702T153809_N0500_R011_T18TXL_20230712T182118.L2_seamless.nc\n",
      "[10:56:04] [43] Input: Y:\\Mingyue\\LISCO\\l2gen-matchup-product\\S2B_MSIL1C_20180712T153809_N0500_R011_T18TXL_20230817T085813.L2.nc\n",
      "[10:56:04] [43] Local: /Volumes/purkislab2a/Mingyue/LISCO/l2gen-matchup-product/S2B_MSIL1C_20180712T153809_N0500_R011_T18TXL_20230817T085813.L2.nc\n",
      "[10:56:08] [43] Scene: 5490x5490, geo=True, land≈61.3%\n",
      "[10:56:09] [Global variogram] exp: nugget=0.00851, sill=0.0429, range≈41777\n",
      "[10:56:09] [Obs] thinned → 120,000\n",
      "[10:56:09] [Targets] 6,023,169 pixels to fill\n",
      "[10:59:22]   filled 6,023,169/6,023,169\n",
      "[10:59:23] [43] Newly filled pixels: 6023169\n"
     ]
    },
    {
     "name": "stderr",
     "output_type": "stream",
     "text": [
      "/var/folders/77/yb_ktv2d4vlfw_lrrj_xl8f40000gn/T/ipykernel_31061/1134916802.py:618: DeprecationWarning: datetime.datetime.utcnow() is deprecated and scheduled for removal in a future version. Use timezone-aware objects to represent datetimes in UTC: datetime.datetime.now(datetime.UTC).\n",
      "  stamp = datetime.utcnow().strftime(\"%Y-%m-%dT%H:%M:%SZ\")\n"
     ]
    },
    {
     "name": "stdout",
     "output_type": "stream",
     "text": [
      "[11:00:18] [43] seamless.nc written: /Volumes/purkislab2a/Mingyue/LISCO/krige_outputs_3/S2B_MSIL1C_20180712T153809_N0500_R011_T18TXL_20230817T085813.L2_seamless.nc\n",
      "[11:00:24] [44] Input: Y:\\Mingyue\\LISCO\\l2gen-matchup-product\\S2A_MSIL1C_20181104T154421_N0500_R011_T18TXL_20230617T052621.L2.nc\n",
      "[11:00:24] [44] Local: /Volumes/purkislab2a/Mingyue/LISCO/l2gen-matchup-product/S2A_MSIL1C_20181104T154421_N0500_R011_T18TXL_20230617T052621.L2.nc\n",
      "[11:00:30] [44] Scene: 5490x5490, geo=True, land≈61.3%\n",
      "[11:00:31] [Global variogram] exp: nugget=0.00776, sill=0.0331, range≈43830\n",
      "[11:00:31] [Obs] thinned → 120,000\n",
      "[11:00:31] [Targets] 676,987 pixels to fill\n",
      "[11:00:53]   filled 676,987/676,987\n",
      "[11:00:56] [44] Newly filled pixels: 676987\n"
     ]
    },
    {
     "name": "stderr",
     "output_type": "stream",
     "text": [
      "/var/folders/77/yb_ktv2d4vlfw_lrrj_xl8f40000gn/T/ipykernel_31061/1134916802.py:618: DeprecationWarning: datetime.datetime.utcnow() is deprecated and scheduled for removal in a future version. Use timezone-aware objects to represent datetimes in UTC: datetime.datetime.now(datetime.UTC).\n",
      "  stamp = datetime.utcnow().strftime(\"%Y-%m-%dT%H:%M:%SZ\")\n"
     ]
    },
    {
     "name": "stdout",
     "output_type": "stream",
     "text": [
      "[11:02:00] [44] seamless.nc written: /Volumes/purkislab2a/Mingyue/LISCO/krige_outputs_3/S2A_MSIL1C_20181104T154421_N0500_R011_T18TXL_20230617T052621.L2_seamless.nc\n",
      "[11:02:05] [45] Input: Y:\\Mingyue\\LISCO\\l2gen-matchup-product\\S2A_MSIL1C_20181204T154621_N0500_R011_T18TXL_20230613T102929.L2.nc\n",
      "[11:02:05] [45] Local: /Volumes/purkislab2a/Mingyue/LISCO/l2gen-matchup-product/S2A_MSIL1C_20181204T154621_N0500_R011_T18TXL_20230613T102929.L2.nc\n",
      "[11:02:12] [45] Scene: 5490x5490, geo=True, land≈61.3%\n",
      "[11:02:13] [Global variogram] exp: nugget=0.0116, sill=0.0481, range≈42635\n",
      "[11:02:13] [Obs] thinned → 120,000\n",
      "[11:02:13] [Targets] 2,003,709 pixels to fill\n",
      "[11:03:20]   filled 2,003,709/2,003,709\n",
      "[11:03:21] [45] Newly filled pixels: 2003709\n"
     ]
    },
    {
     "name": "stderr",
     "output_type": "stream",
     "text": [
      "/var/folders/77/yb_ktv2d4vlfw_lrrj_xl8f40000gn/T/ipykernel_31061/1134916802.py:618: DeprecationWarning: datetime.datetime.utcnow() is deprecated and scheduled for removal in a future version. Use timezone-aware objects to represent datetimes in UTC: datetime.datetime.now(datetime.UTC).\n",
      "  stamp = datetime.utcnow().strftime(\"%Y-%m-%dT%H:%M:%SZ\")\n"
     ]
    },
    {
     "name": "stdout",
     "output_type": "stream",
     "text": [
      "[11:04:21] [45] seamless.nc written: /Volumes/purkislab2a/Mingyue/LISCO/krige_outputs_3/S2A_MSIL1C_20181204T154621_N0500_R011_T18TXL_20230613T102929.L2_seamless.nc\n",
      "[11:04:26] [46] Input: Y:\\Mingyue\\LISCO\\l2gen-matchup-product\\S2B_MSIL1C_20181219T154649_N0500_R011_T18TXL_20230616T113811.L2.nc\n",
      "[11:04:26] [46] Local: /Volumes/purkislab2a/Mingyue/LISCO/l2gen-matchup-product/S2B_MSIL1C_20181219T154649_N0500_R011_T18TXL_20230616T113811.L2.nc\n",
      "[11:04:31] [46] Scene: 5490x5490, geo=True, land≈61.3%\n",
      "[11:04:32] [Global variogram] exp: nugget=0.00394, sill=0.0584, range≈80012\n",
      "[11:04:32] [Obs] thinned → 120,000\n",
      "[11:04:32] [Targets] 639,910 pixels to fill\n",
      "[11:04:53]   filled 639,910/639,910\n",
      "[11:04:53] [46] Newly filled pixels: 639910\n"
     ]
    },
    {
     "name": "stderr",
     "output_type": "stream",
     "text": [
      "/var/folders/77/yb_ktv2d4vlfw_lrrj_xl8f40000gn/T/ipykernel_31061/1134916802.py:618: DeprecationWarning: datetime.datetime.utcnow() is deprecated and scheduled for removal in a future version. Use timezone-aware objects to represent datetimes in UTC: datetime.datetime.now(datetime.UTC).\n",
      "  stamp = datetime.utcnow().strftime(\"%Y-%m-%dT%H:%M:%SZ\")\n"
     ]
    },
    {
     "name": "stdout",
     "output_type": "stream",
     "text": [
      "[11:05:55] [46] seamless.nc written: /Volumes/purkislab2a/Mingyue/LISCO/krige_outputs_3/S2B_MSIL1C_20181219T154649_N0500_R011_T18TXL_20230616T113811.L2_seamless.nc\n",
      "[11:06:00] [47] Input: Y:\\Mingyue\\LISCO\\l2gen-matchup-product\\S2A_MSIL1C_20190113T154611_N0500_R011_T18TXL_20221201T132413.L2.nc\n",
      "[11:06:00] [47] Local: /Volumes/purkislab2a/Mingyue/LISCO/l2gen-matchup-product/S2A_MSIL1C_20190113T154611_N0500_R011_T18TXL_20221201T132413.L2.nc\n",
      "[11:06:03] [47] Scene: 5490x5490, geo=True, land≈61.3%\n",
      "[11:06:04] [Global variogram] exp: nugget=0.0857, sill=0.124, range≈47405\n",
      "[11:06:04] [Obs] thinned → 120,000\n",
      "[11:06:04] [Targets] 10,124,346 pixels to fill\n",
      "[11:12:14]   filled 10,124,346/10,124,346\n",
      "[11:12:15] [47] Newly filled pixels: 10124346\n"
     ]
    },
    {
     "name": "stderr",
     "output_type": "stream",
     "text": [
      "/var/folders/77/yb_ktv2d4vlfw_lrrj_xl8f40000gn/T/ipykernel_31061/1134916802.py:618: DeprecationWarning: datetime.datetime.utcnow() is deprecated and scheduled for removal in a future version. Use timezone-aware objects to represent datetimes in UTC: datetime.datetime.now(datetime.UTC).\n",
      "  stamp = datetime.utcnow().strftime(\"%Y-%m-%dT%H:%M:%SZ\")\n"
     ]
    },
    {
     "name": "stdout",
     "output_type": "stream",
     "text": [
      "[11:13:14] [47] seamless.nc written: /Volumes/purkislab2a/Mingyue/LISCO/krige_outputs_3/S2A_MSIL1C_20190113T154611_N0500_R011_T18TXL_20221201T132413.L2_seamless.nc\n",
      "[11:13:17] [48] Input: Y:\\Mingyue\\LISCO\\l2gen-matchup-product\\S2B_MSIL1C_20191015T154219_N0500_R011_T18TXL_20230615T184421.L2.nc\n",
      "[11:13:17] [48] Local: /Volumes/purkislab2a/Mingyue/LISCO/l2gen-matchup-product/S2B_MSIL1C_20191015T154219_N0500_R011_T18TXL_20230615T184421.L2.nc\n",
      "[11:13:23] [48] Scene: 5490x5490, geo=True, land≈61.3%\n",
      "[11:13:27] [Global variogram] exp: nugget=0.00597, sill=0.0639, range≈76709\n",
      "[11:13:27] [Obs] thinned → 120,000\n",
      "[11:13:27] [Targets] 520,937 pixels to fill\n",
      "[11:14:05]   filled 520,937/520,937\n",
      "[11:14:06] [48] Newly filled pixels: 520937\n"
     ]
    },
    {
     "name": "stderr",
     "output_type": "stream",
     "text": [
      "/var/folders/77/yb_ktv2d4vlfw_lrrj_xl8f40000gn/T/ipykernel_31061/1134916802.py:618: DeprecationWarning: datetime.datetime.utcnow() is deprecated and scheduled for removal in a future version. Use timezone-aware objects to represent datetimes in UTC: datetime.datetime.now(datetime.UTC).\n",
      "  stamp = datetime.utcnow().strftime(\"%Y-%m-%dT%H:%M:%SZ\")\n"
     ]
    },
    {
     "name": "stdout",
     "output_type": "stream",
     "text": [
      "[11:15:14] [48] seamless.nc written: /Volumes/purkislab2a/Mingyue/LISCO/krige_outputs_3/S2B_MSIL1C_20191015T154219_N0500_R011_T18TXL_20230615T184421.L2_seamless.nc\n",
      "[11:15:19] [49] Input: Y:\\Mingyue\\LISCO\\l2gen-matchup-product\\S2A_MSIL1C_20200128T154511_N0500_R011_T18TXL_20230513T003229.L2.nc\n",
      "[11:15:19] [49] Local: /Volumes/purkislab2a/Mingyue/LISCO/l2gen-matchup-product/S2A_MSIL1C_20200128T154511_N0500_R011_T18TXL_20230513T003229.L2.nc\n",
      "[11:15:22] [49] Scene: 5490x5490, geo=True, land≈61.3%\n",
      "[11:15:22] [Global variogram] exp: nugget=0.0187, sill=0.189, range≈68270\n",
      "[11:15:22] [Obs] thinned → 120,000\n",
      "[11:15:22] [Targets] 10,796,606 pixels to fill\n",
      "[11:20:47]   filled 10,796,606/10,796,606\n",
      "[11:20:48] [49] Newly filled pixels: 10796606\n"
     ]
    },
    {
     "name": "stderr",
     "output_type": "stream",
     "text": [
      "/var/folders/77/yb_ktv2d4vlfw_lrrj_xl8f40000gn/T/ipykernel_31061/1134916802.py:618: DeprecationWarning: datetime.datetime.utcnow() is deprecated and scheduled for removal in a future version. Use timezone-aware objects to represent datetimes in UTC: datetime.datetime.now(datetime.UTC).\n",
      "  stamp = datetime.utcnow().strftime(\"%Y-%m-%dT%H:%M:%SZ\")\n"
     ]
    },
    {
     "name": "stdout",
     "output_type": "stream",
     "text": [
      "[11:21:39] [49] seamless.nc written: /Volumes/purkislab2a/Mingyue/LISCO/krige_outputs_3/S2A_MSIL1C_20200128T154511_N0500_R011_T18TXL_20230513T003229.L2_seamless.nc\n",
      "[11:21:40] [50] Input: Y:\\Mingyue\\LISCO\\l2gen-matchup-product\\S2A_MSIL1C_20201014T154231_N0500_R011_T18TXL_20230607T061245.L2.nc\n",
      "[11:21:40] [50] Local: /Volumes/purkislab2a/Mingyue/LISCO/l2gen-matchup-product/S2A_MSIL1C_20201014T154231_N0500_R011_T18TXL_20230607T061245.L2.nc\n",
      "[11:21:46] [50] Scene: 5490x5490, geo=True, land≈61.3%\n",
      "[11:21:46] [Global variogram] exp: nugget=0.0186, sill=0.042, range≈43788\n",
      "[11:21:47] [Obs] thinned → 120,000\n",
      "[11:21:47] [Targets] 640,113 pixels to fill\n",
      "[11:22:06]   filled 640,113/640,113\n",
      "[11:22:07] [50] Newly filled pixels: 640113\n"
     ]
    },
    {
     "name": "stderr",
     "output_type": "stream",
     "text": [
      "/var/folders/77/yb_ktv2d4vlfw_lrrj_xl8f40000gn/T/ipykernel_31061/1134916802.py:618: DeprecationWarning: datetime.datetime.utcnow() is deprecated and scheduled for removal in a future version. Use timezone-aware objects to represent datetimes in UTC: datetime.datetime.now(datetime.UTC).\n",
      "  stamp = datetime.utcnow().strftime(\"%Y-%m-%dT%H:%M:%SZ\")\n"
     ]
    },
    {
     "name": "stdout",
     "output_type": "stream",
     "text": [
      "[11:23:07] [50] seamless.nc written: /Volumes/purkislab2a/Mingyue/LISCO/krige_outputs_3/S2A_MSIL1C_20201014T154231_N0500_R011_T18TXL_20230607T061245.L2_seamless.nc\n",
      "[11:23:12] [51] Input: Y:\\Mingyue\\LISCO\\l2gen-matchup-product\\S2B_MSIL1C_20201108T154449_N0500_R011_T18TXL_20230611T011928.L2.nc\n",
      "[11:23:12] [51] Local: /Volumes/purkislab2a/Mingyue/LISCO/l2gen-matchup-product/S2B_MSIL1C_20201108T154449_N0500_R011_T18TXL_20230611T011928.L2.nc\n",
      "[11:23:17] [51] Scene: 5490x5490, geo=True, land≈61.3%\n",
      "[11:23:18] [Global variogram] exp: nugget=0.00907, sill=0.0348, range≈44714\n",
      "[11:23:18] [Obs] thinned → 120,000\n",
      "[11:23:18] [Targets] 487,750 pixels to fill\n",
      "[11:23:33]   filled 487,750/487,750\n",
      "[11:23:33] [51] Newly filled pixels: 487750\n"
     ]
    },
    {
     "name": "stderr",
     "output_type": "stream",
     "text": [
      "/var/folders/77/yb_ktv2d4vlfw_lrrj_xl8f40000gn/T/ipykernel_31061/1134916802.py:618: DeprecationWarning: datetime.datetime.utcnow() is deprecated and scheduled for removal in a future version. Use timezone-aware objects to represent datetimes in UTC: datetime.datetime.now(datetime.UTC).\n",
      "  stamp = datetime.utcnow().strftime(\"%Y-%m-%dT%H:%M:%SZ\")\n"
     ]
    },
    {
     "name": "stdout",
     "output_type": "stream",
     "text": [
      "[11:24:33] [51] seamless.nc written: /Volumes/purkislab2a/Mingyue/LISCO/krige_outputs_3/S2B_MSIL1C_20201108T154449_N0500_R011_T18TXL_20230611T011928.L2_seamless.nc\n",
      "[11:24:37] [52] Input: Y:\\Mingyue\\LISCO\\l2gen-matchup-product\\S2B_MSIL1C_20201128T154609_N0500_R011_T18TXL_20230607T212527.L2.nc\n",
      "[11:24:37] [52] Local: /Volumes/purkislab2a/Mingyue/LISCO/l2gen-matchup-product/S2B_MSIL1C_20201128T154609_N0500_R011_T18TXL_20230607T212527.L2.nc\n",
      "[11:24:42] [52] Scene: 5490x5490, geo=True, land≈61.3%\n",
      "[11:24:42] [Global variogram] exp: nugget=0.00515, sill=0.0375, range≈53930\n",
      "[11:24:42] [Obs] thinned → 120,000\n",
      "[11:24:42] [Targets] 3,172,588 pixels to fill\n",
      "[11:26:18]   filled 3,172,588/3,172,588\n",
      "[11:26:18] [52] Newly filled pixels: 3172588\n"
     ]
    },
    {
     "name": "stderr",
     "output_type": "stream",
     "text": [
      "/var/folders/77/yb_ktv2d4vlfw_lrrj_xl8f40000gn/T/ipykernel_31061/1134916802.py:618: DeprecationWarning: datetime.datetime.utcnow() is deprecated and scheduled for removal in a future version. Use timezone-aware objects to represent datetimes in UTC: datetime.datetime.now(datetime.UTC).\n",
      "  stamp = datetime.utcnow().strftime(\"%Y-%m-%dT%H:%M:%SZ\")\n"
     ]
    },
    {
     "name": "stdout",
     "output_type": "stream",
     "text": [
      "[11:27:19] [52] seamless.nc written: /Volumes/purkislab2a/Mingyue/LISCO/krige_outputs_3/S2B_MSIL1C_20201128T154609_N0500_R011_T18TXL_20230607T212527.L2_seamless.nc\n",
      "[11:27:23] [53] Input: Y:\\Mingyue\\LISCO\\l2gen-matchup-product\\S2A_MSIL1C_20201203T154631_N0500_R011_T18TXL_20230225T035834.L2.nc\n",
      "[11:27:23] [53] Local: /Volumes/purkislab2a/Mingyue/LISCO/l2gen-matchup-product/S2A_MSIL1C_20201203T154631_N0500_R011_T18TXL_20230225T035834.L2.nc\n",
      "[11:27:29] [53] Scene: 5490x5490, geo=True, land≈61.3%\n",
      "[11:27:30] [Global variogram] exp: nugget=0.0109, sill=0.0442, range≈43899\n",
      "[11:27:30] [Obs] thinned → 120,000\n",
      "[11:27:30] [Targets] 605,273 pixels to fill\n",
      "[11:27:48]   filled 605,273/605,273\n",
      "[11:27:49] [53] Newly filled pixels: 605273\n"
     ]
    },
    {
     "name": "stderr",
     "output_type": "stream",
     "text": [
      "/var/folders/77/yb_ktv2d4vlfw_lrrj_xl8f40000gn/T/ipykernel_31061/1134916802.py:618: DeprecationWarning: datetime.datetime.utcnow() is deprecated and scheduled for removal in a future version. Use timezone-aware objects to represent datetimes in UTC: datetime.datetime.now(datetime.UTC).\n",
      "  stamp = datetime.utcnow().strftime(\"%Y-%m-%dT%H:%M:%SZ\")\n"
     ]
    },
    {
     "name": "stdout",
     "output_type": "stream",
     "text": [
      "[11:28:51] [53] seamless.nc written: /Volumes/purkislab2a/Mingyue/LISCO/krige_outputs_3/S2A_MSIL1C_20201203T154631_N0500_R011_T18TXL_20230225T035834.L2_seamless.nc\n",
      "[11:28:56] [54] Input: Y:\\Mingyue\\LISCO\\l2gen-matchup-product\\S2A_MSIL1C_20201213T154641_N0500_R011_T18TXL_20230605T072005.L2.nc\n",
      "[11:28:56] [54] Local: /Volumes/purkislab2a/Mingyue/LISCO/l2gen-matchup-product/S2A_MSIL1C_20201213T154641_N0500_R011_T18TXL_20230605T072005.L2.nc\n",
      "[11:29:00] [54] Scene: 5490x5490, geo=True, land≈61.3%\n",
      "[11:29:01] [Global variogram] exp: nugget=0.00987, sill=0.0265, range≈50410\n",
      "[11:29:01] [Obs] thinned → 120,000\n",
      "[11:29:01] [Targets] 4,600,067 pixels to fill\n",
      "[11:31:20]   filled 4,600,067/4,600,067\n",
      "[11:31:21] [54] Newly filled pixels: 4600067\n"
     ]
    },
    {
     "name": "stderr",
     "output_type": "stream",
     "text": [
      "/var/folders/77/yb_ktv2d4vlfw_lrrj_xl8f40000gn/T/ipykernel_31061/1134916802.py:618: DeprecationWarning: datetime.datetime.utcnow() is deprecated and scheduled for removal in a future version. Use timezone-aware objects to represent datetimes in UTC: datetime.datetime.now(datetime.UTC).\n",
      "  stamp = datetime.utcnow().strftime(\"%Y-%m-%dT%H:%M:%SZ\")\n"
     ]
    },
    {
     "name": "stdout",
     "output_type": "stream",
     "text": [
      "[11:32:17] [54] seamless.nc written: /Volumes/purkislab2a/Mingyue/LISCO/krige_outputs_3/S2A_MSIL1C_20201213T154641_N0500_R011_T18TXL_20230605T072005.L2_seamless.nc\n",
      "[11:32:20] [55] Input: Y:\\Mingyue\\LISCO\\l2gen-matchup-product\\S2A_MSIL1C_20201223T154651_N0500_R011_T18TXL_20230605T080859.L2.nc\n",
      "[11:32:20] [55] Local: /Volumes/purkislab2a/Mingyue/LISCO/l2gen-matchup-product/S2A_MSIL1C_20201223T154651_N0500_R011_T18TXL_20230605T080859.L2.nc\n",
      "[11:32:28] [55] Scene: 5490x5490, geo=True, land≈61.3%\n",
      "[11:32:28] [Global variogram] exp: nugget=0.00693, sill=0.0312, range≈77173\n",
      "[11:32:28] [Obs] thinned → 120,000\n",
      "[11:32:28] [Targets] 1,684,908 pixels to fill\n",
      "[11:33:18]   filled 1,684,908/1,684,908\n",
      "[11:33:19] [55] Newly filled pixels: 1684908\n"
     ]
    },
    {
     "name": "stderr",
     "output_type": "stream",
     "text": [
      "/var/folders/77/yb_ktv2d4vlfw_lrrj_xl8f40000gn/T/ipykernel_31061/1134916802.py:618: DeprecationWarning: datetime.datetime.utcnow() is deprecated and scheduled for removal in a future version. Use timezone-aware objects to represent datetimes in UTC: datetime.datetime.now(datetime.UTC).\n",
      "  stamp = datetime.utcnow().strftime(\"%Y-%m-%dT%H:%M:%SZ\")\n"
     ]
    },
    {
     "name": "stdout",
     "output_type": "stream",
     "text": [
      "[11:34:18] [55] seamless.nc written: /Volumes/purkislab2a/Mingyue/LISCO/krige_outputs_3/S2A_MSIL1C_20201223T154651_N0500_R011_T18TXL_20230605T080859.L2_seamless.nc\n",
      "[11:34:22] [56] Input: Y:\\Mingyue\\LISCO\\l2gen-matchup-product\\S2A_MSIL1C_20210102T154641_N0500_R011_T18TXL_20230224T013326.L2.nc\n",
      "[11:34:22] [56] Local: /Volumes/purkislab2a/Mingyue/LISCO/l2gen-matchup-product/S2A_MSIL1C_20210102T154641_N0500_R011_T18TXL_20230224T013326.L2.nc\n",
      "[11:34:27] [56] Scene: 5490x5490, geo=True, land≈61.3%\n",
      "[11:34:28] [Global variogram] exp: nugget=0.00915, sill=0.0496, range≈85782\n",
      "[11:34:28] [Obs] thinned → 120,000\n",
      "[11:34:28] [Targets] 1,040,579 pixels to fill\n",
      "[11:34:59]   filled 1,040,579/1,040,579\n",
      "[11:35:00] [56] Newly filled pixels: 1040579\n"
     ]
    },
    {
     "name": "stderr",
     "output_type": "stream",
     "text": [
      "/var/folders/77/yb_ktv2d4vlfw_lrrj_xl8f40000gn/T/ipykernel_31061/1134916802.py:618: DeprecationWarning: datetime.datetime.utcnow() is deprecated and scheduled for removal in a future version. Use timezone-aware objects to represent datetimes in UTC: datetime.datetime.now(datetime.UTC).\n",
      "  stamp = datetime.utcnow().strftime(\"%Y-%m-%dT%H:%M:%SZ\")\n"
     ]
    },
    {
     "name": "stdout",
     "output_type": "stream",
     "text": [
      "[11:35:56] [56] seamless.nc written: /Volumes/purkislab2a/Mingyue/LISCO/krige_outputs_3/S2A_MSIL1C_20210102T154641_N0500_R011_T18TXL_20230224T013326.L2_seamless.nc\n",
      "[11:36:00] [57] Input: Y:\\Mingyue\\LISCO\\l2gen-matchup-product\\S2B_MSIL1C_20210107T154629_N0500_R011_T18TXL_20230530T140605.L2.nc\n",
      "[11:36:00] [57] Local: /Volumes/purkislab2a/Mingyue/LISCO/l2gen-matchup-product/S2B_MSIL1C_20210107T154629_N0500_R011_T18TXL_20230530T140605.L2.nc\n",
      "[11:36:07] [57] Scene: 5490x5490, geo=True, land≈61.3%\n",
      "[11:36:07] [Global variogram] exp: nugget=0.00668, sill=0.0662, range≈83390\n",
      "[11:36:07] [Obs] thinned → 120,000\n",
      "[11:36:08] [Targets] 2,777,506 pixels to fill\n",
      "[11:37:31]   filled 2,777,506/2,777,506\n",
      "[11:37:32] [57] Newly filled pixels: 2777506\n"
     ]
    },
    {
     "name": "stderr",
     "output_type": "stream",
     "text": [
      "/var/folders/77/yb_ktv2d4vlfw_lrrj_xl8f40000gn/T/ipykernel_31061/1134916802.py:618: DeprecationWarning: datetime.datetime.utcnow() is deprecated and scheduled for removal in a future version. Use timezone-aware objects to represent datetimes in UTC: datetime.datetime.now(datetime.UTC).\n",
      "  stamp = datetime.utcnow().strftime(\"%Y-%m-%dT%H:%M:%SZ\")\n"
     ]
    },
    {
     "name": "stdout",
     "output_type": "stream",
     "text": [
      "[11:38:32] [57] seamless.nc written: /Volumes/purkislab2a/Mingyue/LISCO/krige_outputs_3/S2B_MSIL1C_20210107T154629_N0500_R011_T18TXL_20230530T140605.L2_seamless.nc\n",
      "[11:38:36] [58] Input: Y:\\Mingyue\\LISCO\\l2gen-matchup-product\\S2A_MSIL1C_20210112T154621_N0500_R011_T18TXL_20230601T174358.L2.nc\n",
      "[11:38:36] [58] Local: /Volumes/purkislab2a/Mingyue/LISCO/l2gen-matchup-product/S2A_MSIL1C_20210112T154621_N0500_R011_T18TXL_20230601T174358.L2.nc\n",
      "[11:38:43] [58] Scene: 5490x5490, geo=True, land≈61.3%\n",
      "[11:38:44] [Global variogram] exp: nugget=0.0341, sill=0.241, range≈89324\n",
      "[11:38:44] [Obs] thinned → 120,000\n",
      "[11:38:44] [Targets] 3,663,294 pixels to fill\n",
      "[11:40:36]   filled 3,663,294/3,663,294\n",
      "[11:40:37] [58] Newly filled pixels: 3663294\n"
     ]
    },
    {
     "name": "stderr",
     "output_type": "stream",
     "text": [
      "/var/folders/77/yb_ktv2d4vlfw_lrrj_xl8f40000gn/T/ipykernel_31061/1134916802.py:618: DeprecationWarning: datetime.datetime.utcnow() is deprecated and scheduled for removal in a future version. Use timezone-aware objects to represent datetimes in UTC: datetime.datetime.now(datetime.UTC).\n",
      "  stamp = datetime.utcnow().strftime(\"%Y-%m-%dT%H:%M:%SZ\")\n"
     ]
    },
    {
     "name": "stdout",
     "output_type": "stream",
     "text": [
      "[11:41:38] [58] seamless.nc written: /Volumes/purkislab2a/Mingyue/LISCO/krige_outputs_3/S2A_MSIL1C_20210112T154621_N0500_R011_T18TXL_20230601T174358.L2_seamless.nc\n",
      "[11:41:41] [59] Input: Y:\\Mingyue\\LISCO\\l2gen-matchup-product\\S2A_MSIL1C_20210122T154541_N0500_R011_T18TXL_20230522T104650.L2.nc\n",
      "[11:41:41] [59] Local: /Volumes/purkislab2a/Mingyue/LISCO/l2gen-matchup-product/S2A_MSIL1C_20210122T154541_N0500_R011_T18TXL_20230522T104650.L2.nc\n",
      "[11:41:46] [59] Scene: 5490x5490, geo=True, land≈61.3%\n",
      "[11:41:47] [Global variogram] exp: nugget=0.0264, sill=0.0961, range≈39660\n",
      "[11:41:47] [Obs] thinned → 120,000\n",
      "[11:41:47] [Targets] 2,355,833 pixels to fill\n",
      "[11:42:58]   filled 2,355,833/2,355,833\n",
      "[11:42:59] [59] Newly filled pixels: 2355833\n"
     ]
    },
    {
     "name": "stderr",
     "output_type": "stream",
     "text": [
      "/var/folders/77/yb_ktv2d4vlfw_lrrj_xl8f40000gn/T/ipykernel_31061/1134916802.py:618: DeprecationWarning: datetime.datetime.utcnow() is deprecated and scheduled for removal in a future version. Use timezone-aware objects to represent datetimes in UTC: datetime.datetime.now(datetime.UTC).\n",
      "  stamp = datetime.utcnow().strftime(\"%Y-%m-%dT%H:%M:%SZ\")\n"
     ]
    },
    {
     "name": "stdout",
     "output_type": "stream",
     "text": [
      "[11:43:59] [59] seamless.nc written: /Volumes/purkislab2a/Mingyue/LISCO/krige_outputs_3/S2A_MSIL1C_20210122T154541_N0500_R011_T18TXL_20230522T104650.L2_seamless.nc\n",
      "[11:44:03] [60] Input: Y:\\Mingyue\\LISCO\\l2gen-matchup-product\\S2B_MSIL1C_20210216T154219_N0500_R011_T18TXL_20230529T010139.L2.nc\n",
      "[11:44:03] [60] Local: /Volumes/purkislab2a/Mingyue/LISCO/l2gen-matchup-product/S2B_MSIL1C_20210216T154219_N0500_R011_T18TXL_20230529T010139.L2.nc\n",
      "[11:44:06] [60] Scene: 5490x5490, geo=True, land≈61.3%\n",
      "[11:44:06] [Global variogram] exp: nugget=0.00352, sill=0.0163, range≈12446\n",
      "[11:44:06] [Obs] thinned → 120,000\n",
      "[11:44:06] [Targets] 11,135,697 pixels to fill\n",
      "[11:49:55]   filled 11,135,697/11,135,697\n",
      "[11:49:56] [60] Newly filled pixels: 10960197\n"
     ]
    },
    {
     "name": "stderr",
     "output_type": "stream",
     "text": [
      "/var/folders/77/yb_ktv2d4vlfw_lrrj_xl8f40000gn/T/ipykernel_31061/1134916802.py:618: DeprecationWarning: datetime.datetime.utcnow() is deprecated and scheduled for removal in a future version. Use timezone-aware objects to represent datetimes in UTC: datetime.datetime.now(datetime.UTC).\n",
      "  stamp = datetime.utcnow().strftime(\"%Y-%m-%dT%H:%M:%SZ\")\n"
     ]
    },
    {
     "name": "stdout",
     "output_type": "stream",
     "text": [
      "[11:50:41] [60] seamless.nc written: /Volumes/purkislab2a/Mingyue/LISCO/krige_outputs_3/S2B_MSIL1C_20210216T154219_N0500_R011_T18TXL_20230529T010139.L2_seamless.nc\n",
      "[11:50:42] [61] Input: Y:\\Mingyue\\LISCO\\l2gen-matchup-product\\S2B_MSIL1C_20210226T154119_N0500_R011_T18TXL_20230530T040506.L2.nc\n",
      "[11:50:42] [61] Local: /Volumes/purkislab2a/Mingyue/LISCO/l2gen-matchup-product/S2B_MSIL1C_20210226T154119_N0500_R011_T18TXL_20230530T040506.L2.nc\n",
      "[11:50:48] [61] Scene: 5490x5490, geo=True, land≈61.3%\n",
      "[11:50:49] [Global variogram] exp: nugget=0.00514, sill=0.0699, range≈56025\n",
      "[11:50:49] [Obs] thinned → 120,000\n",
      "[11:50:49] [Targets] 591,586 pixels to fill\n",
      "[11:51:06]   filled 591,586/591,586\n",
      "[11:51:07] [61] Newly filled pixels: 591586\n"
     ]
    },
    {
     "name": "stderr",
     "output_type": "stream",
     "text": [
      "/var/folders/77/yb_ktv2d4vlfw_lrrj_xl8f40000gn/T/ipykernel_31061/1134916802.py:618: DeprecationWarning: datetime.datetime.utcnow() is deprecated and scheduled for removal in a future version. Use timezone-aware objects to represent datetimes in UTC: datetime.datetime.now(datetime.UTC).\n",
      "  stamp = datetime.utcnow().strftime(\"%Y-%m-%dT%H:%M:%SZ\")\n"
     ]
    },
    {
     "name": "stdout",
     "output_type": "stream",
     "text": [
      "[11:52:07] [61] seamless.nc written: /Volumes/purkislab2a/Mingyue/LISCO/krige_outputs_3/S2B_MSIL1C_20210226T154119_N0500_R011_T18TXL_20230530T040506.L2_seamless.nc\n",
      "[11:52:11] [62] Input: Y:\\Mingyue\\LISCO\\l2gen-matchup-product\\S2A_MSIL1C_20210303T154141_N0500_R011_T18TXL_20230607T085459.L2.nc\n",
      "[11:52:11] [62] Local: /Volumes/purkislab2a/Mingyue/LISCO/l2gen-matchup-product/S2A_MSIL1C_20210303T154141_N0500_R011_T18TXL_20230607T085459.L2.nc\n",
      "[11:52:12] [62] Scene: 5490x5490, geo=True, land≈10.6%\n",
      "[11:52:13] [Global variogram] exp: nugget=0.042, sill=0.509, range≈14696\n",
      "[11:52:13] [Obs] using 8,263 points\n",
      "[11:52:13] [Targets] 26,947,184 pixels to fill\n",
      "[11:52:16] [62] ERROR: S2A_MSIL1C_20210303T154141_N0500_R011_T18TXL_20230607T085459.L2.nc → 'x' must be finite, check for nan or inf values\n",
      "[11:52:16] [63] Input: Y:\\Mingyue\\LISCO\\l2gen-matchup-product\\S2B_MSIL1C_20210308T154009_N0500_R011_T18TXL_20230525T014856.L2.nc\n",
      "[11:52:16] [63] Local: /Volumes/purkislab2a/Mingyue/LISCO/l2gen-matchup-product/S2B_MSIL1C_20210308T154009_N0500_R011_T18TXL_20230525T014856.L2.nc\n",
      "[11:52:21] [63] Scene: 5490x5490, geo=True, land≈61.3%\n",
      "[11:52:22] [Global variogram] exp: nugget=0.0097, sill=0.084, range≈70993\n",
      "[11:52:22] [Obs] thinned → 120,000\n",
      "[11:52:22] [Targets] 629,256 pixels to fill\n",
      "[11:52:41]   filled 629,256/629,256\n",
      "[11:52:41] [63] Newly filled pixels: 629256\n"
     ]
    },
    {
     "name": "stderr",
     "output_type": "stream",
     "text": [
      "/var/folders/77/yb_ktv2d4vlfw_lrrj_xl8f40000gn/T/ipykernel_31061/1134916802.py:618: DeprecationWarning: datetime.datetime.utcnow() is deprecated and scheduled for removal in a future version. Use timezone-aware objects to represent datetimes in UTC: datetime.datetime.now(datetime.UTC).\n",
      "  stamp = datetime.utcnow().strftime(\"%Y-%m-%dT%H:%M:%SZ\")\n"
     ]
    },
    {
     "name": "stdout",
     "output_type": "stream",
     "text": [
      "[11:53:38] [63] seamless.nc written: /Volumes/purkislab2a/Mingyue/LISCO/krige_outputs_3/S2B_MSIL1C_20210308T154009_N0500_R011_T18TXL_20230525T014856.L2_seamless.nc\n",
      "[11:53:42] [64] Input: Y:\\Mingyue\\LISCO\\l2gen-matchup-product\\S2B_MSIL1C_20210407T153809_N0500_R011_T18TXL_20230522T152405.L2.nc\n",
      "[11:53:42] [64] Local: /Volumes/purkislab2a/Mingyue/LISCO/l2gen-matchup-product/S2B_MSIL1C_20210407T153809_N0500_R011_T18TXL_20230522T152405.L2.nc\n",
      "[11:53:49] [64] Scene: 5490x5490, geo=True, land≈61.3%\n",
      "[11:53:50] [Global variogram] exp: nugget=0.00784, sill=0.0794, range≈77438\n",
      "[11:53:50] [Obs] thinned → 120,000\n",
      "[11:53:50] [Targets] 4,642,680 pixels to fill\n",
      "[11:56:09]   filled 4,642,680/4,642,680\n",
      "[11:56:10] [64] Newly filled pixels: 4642680\n"
     ]
    },
    {
     "name": "stderr",
     "output_type": "stream",
     "text": [
      "/var/folders/77/yb_ktv2d4vlfw_lrrj_xl8f40000gn/T/ipykernel_31061/1134916802.py:618: DeprecationWarning: datetime.datetime.utcnow() is deprecated and scheduled for removal in a future version. Use timezone-aware objects to represent datetimes in UTC: datetime.datetime.now(datetime.UTC).\n",
      "  stamp = datetime.utcnow().strftime(\"%Y-%m-%dT%H:%M:%SZ\")\n"
     ]
    },
    {
     "name": "stdout",
     "output_type": "stream",
     "text": [
      "[11:57:07] [64] seamless.nc written: /Volumes/purkislab2a/Mingyue/LISCO/krige_outputs_3/S2B_MSIL1C_20210407T153809_N0500_R011_T18TXL_20230522T152405.L2_seamless.nc\n",
      "[11:57:10] [65] Input: Y:\\Mingyue\\LISCO\\l2gen-matchup-product\\S2B_MSIL1C_20210606T153809_N0500_R011_T18TXL_20230603T174356.L2.nc\n",
      "[11:57:10] [65] Local: /Volumes/purkislab2a/Mingyue/LISCO/l2gen-matchup-product/S2B_MSIL1C_20210606T153809_N0500_R011_T18TXL_20230603T174356.L2.nc\n",
      "[11:57:15] [65] Scene: 5490x5490, geo=True, land≈61.3%\n",
      "[11:57:16] [Global variogram] exp: nugget=0.00697, sill=0.0207, range≈45715\n",
      "[11:57:16] [Obs] thinned → 120,000\n",
      "[11:57:16] [Targets] 4,732,232 pixels to fill\n",
      "[11:59:35]   filled 4,732,232/4,732,232\n",
      "[11:59:36] [65] Newly filled pixels: 4732232\n"
     ]
    },
    {
     "name": "stderr",
     "output_type": "stream",
     "text": [
      "/var/folders/77/yb_ktv2d4vlfw_lrrj_xl8f40000gn/T/ipykernel_31061/1134916802.py:618: DeprecationWarning: datetime.datetime.utcnow() is deprecated and scheduled for removal in a future version. Use timezone-aware objects to represent datetimes in UTC: datetime.datetime.now(datetime.UTC).\n",
      "  stamp = datetime.utcnow().strftime(\"%Y-%m-%dT%H:%M:%SZ\")\n"
     ]
    },
    {
     "name": "stdout",
     "output_type": "stream",
     "text": [
      "[12:00:36] [65] seamless.nc written: /Volumes/purkislab2a/Mingyue/LISCO/krige_outputs_3/S2B_MSIL1C_20210606T153809_N0500_R011_T18TXL_20230603T174356.L2_seamless.nc\n",
      "[12:00:39] [66] Input: Y:\\Mingyue\\LISCO\\l2gen-matchup-product\\S2A_MSIL1C_20210611T153911_N0500_R011_T18TXL_20230603T125252.L2.nc\n",
      "[12:00:39] [66] Local: /Volumes/purkislab2a/Mingyue/LISCO/l2gen-matchup-product/S2A_MSIL1C_20210611T153911_N0500_R011_T18TXL_20230603T125252.L2.nc\n",
      "[12:00:44] [66] Scene: 5490x5490, geo=True, land≈61.3%\n",
      "[12:00:44] [Global variogram] exp: nugget=0.0102, sill=0.158, range≈31471\n",
      "[12:00:44] [Obs] thinned → 120,000\n",
      "[12:00:44] [Targets] 10,984,074 pixels to fill\n",
      "[12:06:14]   filled 10,984,074/10,984,074\n",
      "[12:06:15] [66] Newly filled pixels: 10984074\n"
     ]
    },
    {
     "name": "stderr",
     "output_type": "stream",
     "text": [
      "/var/folders/77/yb_ktv2d4vlfw_lrrj_xl8f40000gn/T/ipykernel_31061/1134916802.py:618: DeprecationWarning: datetime.datetime.utcnow() is deprecated and scheduled for removal in a future version. Use timezone-aware objects to represent datetimes in UTC: datetime.datetime.now(datetime.UTC).\n",
      "  stamp = datetime.utcnow().strftime(\"%Y-%m-%dT%H:%M:%SZ\")\n"
     ]
    },
    {
     "name": "stdout",
     "output_type": "stream",
     "text": [
      "[12:07:23] [66] seamless.nc written: /Volumes/purkislab2a/Mingyue/LISCO/krige_outputs_3/S2A_MSIL1C_20210611T153911_N0500_R011_T18TXL_20230603T125252.L2_seamless.nc\n",
      "[12:07:24] [67] Input: Y:\\Mingyue\\LISCO\\l2gen-matchup-product\\S2B_MSIL1C_20210716T153809_N0500_R011_T18TXL_20230130T163211.L2.nc\n",
      "[12:07:24] [67] Local: /Volumes/purkislab2a/Mingyue/LISCO/l2gen-matchup-product/S2B_MSIL1C_20210716T153809_N0500_R011_T18TXL_20230130T163211.L2.nc\n",
      "[12:07:28] [67] Scene: 5490x5490, geo=True, land≈61.3%\n",
      "[12:07:29] [Global variogram] exp: nugget=0.00197, sill=0.0184, range≈84643\n",
      "[12:07:29] [Obs] thinned → 120,000\n",
      "[12:07:29] [Targets] 4,755,494 pixels to fill\n",
      "[12:09:48]   filled 4,755,494/4,755,494\n",
      "[12:09:49] [67] Newly filled pixels: 4755494\n"
     ]
    },
    {
     "name": "stderr",
     "output_type": "stream",
     "text": [
      "/var/folders/77/yb_ktv2d4vlfw_lrrj_xl8f40000gn/T/ipykernel_31061/1134916802.py:618: DeprecationWarning: datetime.datetime.utcnow() is deprecated and scheduled for removal in a future version. Use timezone-aware objects to represent datetimes in UTC: datetime.datetime.now(datetime.UTC).\n",
      "  stamp = datetime.utcnow().strftime(\"%Y-%m-%dT%H:%M:%SZ\")\n"
     ]
    },
    {
     "name": "stdout",
     "output_type": "stream",
     "text": [
      "[12:10:50] [67] seamless.nc written: /Volumes/purkislab2a/Mingyue/LISCO/krige_outputs_3/S2B_MSIL1C_20210716T153809_N0500_R011_T18TXL_20230130T163211.L2_seamless.nc\n",
      "[12:10:54] [68] Input: Y:\\Mingyue\\LISCO\\l2gen-matchup-product\\S2A_MSIL1C_20210731T153911_N0500_R011_T18TXL_20230603T102903.L2.nc\n",
      "[12:10:54] [68] Local: /Volumes/purkislab2a/Mingyue/LISCO/l2gen-matchup-product/S2A_MSIL1C_20210731T153911_N0500_R011_T18TXL_20230603T102903.L2.nc\n",
      "[12:11:00] [68] Scene: 5490x5490, geo=True, land≈61.3%\n",
      "[12:11:01] [Global variogram] exp: nugget=0.042, sill=0.152, range≈39704\n",
      "[12:11:01] [Obs] thinned → 120,000\n",
      "[12:11:01] [Targets] 5,485,748 pixels to fill\n",
      "[12:13:43]   filled 5,485,748/5,485,748\n",
      "[12:13:44] [68] Newly filled pixels: 5485748\n"
     ]
    },
    {
     "name": "stderr",
     "output_type": "stream",
     "text": [
      "/var/folders/77/yb_ktv2d4vlfw_lrrj_xl8f40000gn/T/ipykernel_31061/1134916802.py:618: DeprecationWarning: datetime.datetime.utcnow() is deprecated and scheduled for removal in a future version. Use timezone-aware objects to represent datetimes in UTC: datetime.datetime.now(datetime.UTC).\n",
      "  stamp = datetime.utcnow().strftime(\"%Y-%m-%dT%H:%M:%SZ\")\n"
     ]
    },
    {
     "name": "stdout",
     "output_type": "stream",
     "text": [
      "[12:14:40] [68] seamless.nc written: /Volumes/purkislab2a/Mingyue/LISCO/krige_outputs_3/S2A_MSIL1C_20210731T153911_N0500_R011_T18TXL_20230603T102903.L2_seamless.nc\n",
      "[12:14:43] CSV written: /Volumes/purkislab2a/Mingyue/LISCO/krige_outputs_3/LISCO_krige_stats_v3.csv\n"
     ]
    }
   ],
   "source": [
    "#!/usr/bin/env python3\n",
    "# -*- coding: utf-8 -*-\n",
    "\n",
    "\"\"\"\n",
    "Batch (all rows): seamless/global OK + IDW fallback for chlor_a.\n",
    "\n",
    "- Reads SUMMARY_CSV (with column 'file', optional 'in-situ chl-a').\n",
    "- For each scene:\n",
    "  * Loads chlor_a (+ l2_flags LAND), computes seamless/global OK (log10) with IDW fallback.\n",
    "  * Saves PNGs, GeoTIFFs (if rectilinear + rasterio), and _seamless.nc copy with bands.\n",
    "  * Appends a row to a CSV with diagnostics: center value, 3x3/5x5/10x10 stats, etc.\n",
    "\n",
    "All outputs go to a single OUTPUT_DIR (created if missing).\n",
    "\"\"\"\n",
    "\n",
    "from pathlib import Path, PureWindowsPath\n",
    "import os, re, json, shutil\n",
    "import numpy as np\n",
    "import xarray as xr\n",
    "import pandas as pd\n",
    "import matplotlib\n",
    "matplotlib.use(\"Agg\")\n",
    "import matplotlib.pyplot as plt\n",
    "from math import cos\n",
    "from datetime import datetime\n",
    "\n",
    "# ---------- Optional deps ----------\n",
    "try:\n",
    "    from pykrige.ok import OrdinaryKriging as PKOrdinaryKriging\n",
    "    HAVE_PYKRIGE = True\n",
    "except Exception:\n",
    "    HAVE_PYKRIGE = False\n",
    "\n",
    "try:\n",
    "    from scipy.spatial import cKDTree\n",
    "    HAVE_KDTREE = True\n",
    "except Exception:\n",
    "    HAVE_KDTREE = False\n",
    "\n",
    "try:\n",
    "    from scipy.ndimage import zoom as scipy_zoom\n",
    "    HAVE_SCIPY_NDIMAGE = True\n",
    "except Exception:\n",
    "    HAVE_SCIPY_NDIMAGE = False\n",
    "\n",
    "try:\n",
    "    import rasterio\n",
    "    from rasterio.transform import Affine\n",
    "    HAVE_RASTERIO = True\n",
    "except Exception:\n",
    "    HAVE_RASTERIO = False\n",
    "\n",
    "try:\n",
    "    from netCDF4 import Dataset\n",
    "    HAVE_NETCDF4 = True\n",
    "except Exception:\n",
    "    HAVE_NETCDF4 = False\n",
    "\n",
    "\n",
    "# ============================== SETTINGS ==============================\n",
    "SITE        = \"LISCO\"\n",
    "BASE_DIR    = Path(\"/Volumes/purkislab2a/\") / \"Mingyue\" / SITE\n",
    "SUMMARY_CSV = BASE_DIR / f\"{SITE}_l2_summary_v2.csv\"\n",
    "\n",
    "# All outputs go here\n",
    "OUTPUT_DIR  = BASE_DIR / \"krige_outputs_3\"   # <— change if you like\n",
    "\n",
    "# Map Windows drive(s) to macOS mount(s)\n",
    "DRIVE_MAP   = {\"Y:\": Path(\"/Volumes/purkislab2a\")}\n",
    "\n",
    "# L2 variable\n",
    "GROUP       = \"geophysical_data\"\n",
    "VARNAME     = \"chlor_a\"\n",
    "\n",
    "# Diagnostics target (used if CSV lacks nearest_row/col)\n",
    "TARGET_LAT  = 40.954517\n",
    "TARGET_LON  = -73.341767\n",
    "\n",
    "# Seamless/global-OK knobs (same as old script)\n",
    "N_CLOSEST_POINTS   = 50\n",
    "VARIOGRAM_MODEL    = \"exponential\"\n",
    "RANDOM_SEED        = 123\n",
    "MIN_RADIUS_M       = 40_000.0\n",
    "MAX_GLOBAL_OBS     = 120_000\n",
    "BATCH_TARGETS      = 120_000\n",
    "\n",
    "# PNG look\n",
    "CHL_VMIN, CHL_VMAX = 0.0, 5.0\n",
    "DPI                = 160\n",
    "\n",
    "# Verbosity\n",
    "VERBOSE = True\n",
    "\n",
    "\n",
    "# ============================== HELPERS ==============================\n",
    "def log(msg: str):\n",
    "    if VERBOSE:\n",
    "        ts = datetime.now().strftime(\"%H:%M:%S\")\n",
    "        print(f\"[{ts}] {msg}\")\n",
    "\n",
    "def remap_windows_path_to_local(p: str) -> Path:\n",
    "    \"\"\"Map 'Y:\\\\foo\\\\bar' to '/Volumes/purkislab2a/foo/bar' on macOS.\"\"\"\n",
    "    if p is None:\n",
    "        return Path(\"\")\n",
    "    p = str(p).strip().strip('\"').strip(\"'\")\n",
    "    if not p:\n",
    "        return Path(\"\")\n",
    "    if os.name == \"nt\":\n",
    "        return Path(p)\n",
    "    if re.match(r\"^[A-Za-z]:\\\\\", p):\n",
    "        wp = PureWindowsPath(p)\n",
    "        base = DRIVE_MAP.get(wp.drive)\n",
    "        if base is not None:\n",
    "            return base.joinpath(*wp.parts[1:])\n",
    "    return Path(p)\n",
    "\n",
    "def ensure_output_dir() -> Path:\n",
    "    OUTPUT_DIR.mkdir(parents=True, exist_ok=True)\n",
    "    return OUTPUT_DIR\n",
    "\n",
    "def latlon_to_xy_m(lat, lon, lat0=None):\n",
    "    if lat0 is None:\n",
    "        lat0 = float(np.nanmedian(lat))\n",
    "    R = 6371000.0\n",
    "    x = np.deg2rad(lon) * cos(np.deg2rad(lat0)) * R\n",
    "    y = np.deg2rad(lat) * R\n",
    "    return x, y\n",
    "\n",
    "def load_l2_flags_any(nc_path):\n",
    "    for g in (\"geophysical_data\",\"navigation_data\",\"geolocation_data\", None):\n",
    "        try:\n",
    "            d = xr.open_dataset(nc_path, group=g) if g is not None else xr.open_dataset(nc_path)\n",
    "            if \"l2_flags\" in d.variables:\n",
    "                arr = np.asarray(d[\"l2_flags\"].data); d.close(); return arr\n",
    "            d.close()\n",
    "        except Exception:\n",
    "            pass\n",
    "    return None\n",
    "\n",
    "def load_scene(nc_path, group=\"geophysical_data\", varname=\"chlor_a\"):\n",
    "    gphys = xr.open_dataset(nc_path, group=group)\n",
    "    da = gphys[varname]\n",
    "    chl = np.asarray(da.data, dtype=float)\n",
    "    H, W = chl.shape\n",
    "\n",
    "    flags = load_l2_flags_any(nc_path)\n",
    "    if flags is None:\n",
    "        land_mask = np.zeros_like(chl, dtype=bool)\n",
    "    else:\n",
    "        if flags.shape != chl.shape:\n",
    "            if HAVE_SCIPY_NDIMAGE:\n",
    "                zoom_factors = (chl.shape[0]/flags.shape[0], chl.shape[1]/flags.shape[1])\n",
    "                flags = scipy_zoom(flags, zoom_factors, order=0, prefilter=False)\n",
    "                flags = flags[:chl.shape[0], :chl.shape[1]]\n",
    "            else:\n",
    "                flags = None\n",
    "        if flags is None:\n",
    "            land_mask = np.zeros_like(chl, dtype=bool)\n",
    "        else:\n",
    "            LAND_BIT  = 1\n",
    "            land_mask = (flags.astype(np.uint32) & (1 << LAND_BIT)) != 0\n",
    "\n",
    "    have_geo = True\n",
    "    lat = lon = None\n",
    "    try:\n",
    "        nav = xr.open_dataset(nc_path, group=\"navigation_data\")\n",
    "        lat = np.asarray(nav[\"latitude\"].data, dtype=float)\n",
    "        lon = np.asarray(nav[\"longitude\"].data, dtype=float)\n",
    "        nav.close()\n",
    "    except Exception:\n",
    "        pass\n",
    "    if (lat is None) or (lon is None):\n",
    "        try:\n",
    "            geo = xr.open_dataset(nc_path, group=\"geolocation_data\")\n",
    "            lat = np.asarray(geo[\"latitude\"].data, dtype=float)\n",
    "            lon = np.asarray(geo[\"longitude\"].data, dtype=float)\n",
    "            geo.close()\n",
    "        except Exception:\n",
    "            have_geo = False\n",
    "\n",
    "    if have_geo and (lat is not None) and (lon is not None):\n",
    "        if lat.ndim == 1 and lon.ndim == 1:\n",
    "            lon, lat = np.meshgrid(lon, lat, indexing='xy')\n",
    "    else:\n",
    "        yy, xx = np.indices((H, W))\n",
    "        lat, lon = yy.astype(float), xx.astype(float)\n",
    "        have_geo = False\n",
    "\n",
    "    gphys.close()\n",
    "    return chl, lat, lon, land_mask, have_geo\n",
    "\n",
    "def compute_rectilinear_transform(lat, lon):\n",
    "    \"\"\"Return (Affine transform, crs) for near-rectilinear WGS84 grids, else (None,None).\"\"\"\n",
    "    if not HAVE_RASTERIO:\n",
    "        return None, None\n",
    "    try:\n",
    "        lat_row = lat[:, 0]; lon_col = lon[0, :]\n",
    "        dlat = np.nanmedian(np.diff(lat_row)); dlon = np.nanmedian(np.diff(lon_col))\n",
    "        if not np.isfinite(dlat) or not np.isfinite(dlon) or dlat == 0 or dlon == 0:\n",
    "            return None, None\n",
    "        lat0 = float(lat[0,0]); lon0 = float(lon[0,0])\n",
    "        transform = Affine(dlon, 0, lon0, 0, dlat, lat0)\n",
    "        crs = \"EPSG:4326\"\n",
    "        return transform, crs\n",
    "    except Exception:\n",
    "        return None, None\n",
    "\n",
    "def save_png(array, out_png, vmin=None, vmax=None, cmap='viridis'):\n",
    "    plt.figure(figsize=(9,7))\n",
    "    plt.imshow(np.array(array, dtype=float), origin='upper', vmin=vmin, vmax=vmax, cmap=cmap)\n",
    "    plt.axis('off'); plt.tight_layout()\n",
    "    plt.savefig(out_png, dpi=DPI, bbox_inches='tight', pad_inches=0.0)\n",
    "    plt.close()\n",
    "\n",
    "def save_geotiff(array, out_tif, transform, crs, nodata=np.nan, dtype=np.float32):\n",
    "    if not HAVE_RASTERIO or transform is None or crs is None:\n",
    "        return False\n",
    "    arr = np.asarray(array, dtype=dtype)\n",
    "    profile = {\n",
    "        \"driver\": \"GTiff\", \"height\": arr.shape[0], \"width\": arr.shape[1],\n",
    "        \"count\": 1, \"dtype\": str(arr.dtype), \"crs\": crs, \"transform\": transform,\n",
    "        \"compress\": \"deflate\", \"tiled\": True\n",
    "    }\n",
    "    with rasterio.open(out_tif, \"w\", **profile) as dst:\n",
    "        dst.write(arr, 1)\n",
    "        if np.issubdtype(arr.dtype, np.floating):\n",
    "            dst.update_tags(1, NODATA=nodata)\n",
    "    return True\n",
    "\n",
    "\n",
    "# ======================= SEAMLESS (GLOBAL) OK + IDW =======================\n",
    "def estimate_variogram_params_subsample(x, y, z, max_points=5000, max_pairs=100_000, n_bins=18, seed=RANDOM_SEED):\n",
    "    rng = np.random.default_rng(seed)\n",
    "    valid = np.isfinite(z)\n",
    "    idxs = np.column_stack(np.nonzero(valid))\n",
    "    if idxs.shape[0] < 60:\n",
    "        return 0.0, float(np.nanvar(z)), 2000.0\n",
    "    n_samp = min(idxs.shape[0], max_points)\n",
    "    samp = idxs[rng.choice(idxs.shape[0], size=n_samp, replace=False)]\n",
    "    n_pairs = min(max_pairs, n_samp*(n_samp-1)//2)\n",
    "    i = rng.integers(0, n_samp, size=n_pairs)\n",
    "    j = rng.integers(0, n_samp, size=n_pairs)\n",
    "    r1, c1 = samp[i,0], samp[i,1]; r2, c2 = samp[j,0], samp[j,1]\n",
    "    d = np.sqrt((x[r1,c1]-x[r2,c2])**2 + (y[r1,c1]-y[r2,c2])**2)\n",
    "    g = 0.5*(z[r1,c1]-z[r2,c2])**2\n",
    "    if not np.isfinite(d).any() or np.nanmax(d) <= 0:\n",
    "        return 0.0, float(np.nanvar(z)), 2000.0\n",
    "    bins = np.linspace(0, np.nanpercentile(d,95), n_bins+1)\n",
    "    bc = 0.5*(bins[:-1]+bins[1:])\n",
    "    gam = np.full(n_bins, np.nan)\n",
    "    for k in range(n_bins):\n",
    "        m = (d>=bins[k]) & (d<bins[k+1])\n",
    "        if np.any(m): gam[k] = np.nanmedian(g[m])\n",
    "    nug = np.nanmedian(gam[:2]); sill = np.nanmedian(gam[-4:])\n",
    "    if not np.isfinite(sill) or sill <= 0: sill = float(np.nanvar(z))\n",
    "    if not np.isfinite(nug) or nug < 0:   nug = 0.0\n",
    "    target = nug + 0.95*sill\n",
    "    a = None\n",
    "    for bci, gvi in zip(bc, gam):\n",
    "        if np.isfinite(gvi) and gvi >= target: a = bci; break\n",
    "    if a is None or a <= 0:\n",
    "        a = np.nanmedian(bc[np.isfinite(gam)]) if np.any(np.isfinite(gam)) else 2000.0\n",
    "    if not np.isfinite(a) or a <= 0: a = 2000.0\n",
    "    return float(nug), float(sill), float(a)\n",
    "\n",
    "def idw_points(x_obs, y_obs, z_obs, x_tgt, y_tgt, k=N_CLOSEST_POINTS, radius=MIN_RADIUS_M):\n",
    "    if not HAVE_KDTREE:\n",
    "        raise RuntimeError(\"IDW fallback requires scipy.spatial.cKDTree.\")\n",
    "    tree = cKDTree(np.column_stack([x_obs, y_obs]))\n",
    "    z_hat = np.full(x_tgt.shape, np.nan, float)\n",
    "    var   = np.full(x_tgt.shape, np.nan, float)\n",
    "    for i in range(x_tgt.size):\n",
    "        d, ii = tree.query([x_tgt[i], y_tgt[i]], k=k, distance_upper_bound=radius)\n",
    "        m = np.isfinite(d) & (ii < x_obs.size)\n",
    "        if not np.any(m): continue\n",
    "        d = d[m]; v = z_obs[ii[m]]\n",
    "        d[d == 0] = 1e-6\n",
    "        w = 1.0/(d**2)\n",
    "        z_hat[i] = np.sum(w*v)/np.sum(w)\n",
    "        var[i]   = np.mean(d)/(np.std(d)+1e-6)\n",
    "    return z_hat, var\n",
    "\n",
    "def fill_seamless_ok(chl, lat, lon, land_mask):\n",
    "    \"\"\"Single global OK model (log10-space) with batched prediction; IDW fallback.\"\"\"\n",
    "    H, W = chl.shape\n",
    "\n",
    "    have_geo = not (lat is None or lon is None)\n",
    "    if have_geo:\n",
    "        x, y = latlon_to_xy_m(lat, lon)\n",
    "    else:\n",
    "        yy, xx = np.indices((H, W))\n",
    "        x, y = xx.astype(float), yy.astype(float)\n",
    "\n",
    "    obs_mask = np.isfinite(chl) & (chl > 0)\n",
    "    tgt_mask = (~np.isfinite(chl)) | (chl <= 0)\n",
    "    if land_mask is not None and land_mask.shape == chl.shape:\n",
    "        obs_mask &= ~land_mask\n",
    "        tgt_mask &= ~land_mask\n",
    "\n",
    "    logA = np.full_like(chl, np.nan, float)\n",
    "    logA[obs_mask] = np.log10(chl[obs_mask])\n",
    "\n",
    "    # Global variogram\n",
    "    nug, sill, krange = estimate_variogram_params_subsample(x, y, logA)\n",
    "    log(f\"[Global variogram] exp: nugget={nug:.3g}, sill={sill:.3g}, range≈{int(krange)}\")\n",
    "\n",
    "    # Observations (thin if needed)\n",
    "    oy, ox = np.nonzero(obs_mask)\n",
    "    if oy.size == 0:\n",
    "        raise RuntimeError(\"No observations found.\")\n",
    "    rng = np.random.default_rng(RANDOM_SEED)\n",
    "    if oy.size > MAX_GLOBAL_OBS:\n",
    "        sel = rng.choice(oy.size, size=MAX_GLOBAL_OBS, replace=False)\n",
    "        oy, ox = oy[sel], ox[sel]\n",
    "        log(f\"[Obs] thinned → {oy.size:,}\")\n",
    "    else:\n",
    "        log(f\"[Obs] using {oy.size:,} points\")\n",
    "\n",
    "    xo, yo, zo = x[oy, ox], y[oy, ox], logA[oy, ox]\n",
    "\n",
    "    # Targets\n",
    "    ty, tx = np.nonzero(tgt_mask)\n",
    "    n_tgt = ty.size\n",
    "    log(f\"[Targets] {n_tgt:,} pixels to fill\")\n",
    "\n",
    "    logA_out = logA.copy()\n",
    "    var_map  = np.full_like(logA, np.nan, float)\n",
    "\n",
    "    # Try OK once\n",
    "    use_idw_all = not HAVE_PYKRIGE\n",
    "    ok = None\n",
    "    if not use_idw_all:\n",
    "        try:\n",
    "            ok = PKOrdinaryKriging(\n",
    "                xo, yo, zo,\n",
    "                variogram_model=VARIOGRAM_MODEL,\n",
    "                variogram_parameters={'sill': sill, 'range': krange, 'nugget': nug},\n",
    "                coordinates_type='euclidean'\n",
    "            )\n",
    "            log(\"[OK] model initialized\")\n",
    "        except (MemoryError, Exception) as e:\n",
    "            log(f\"[OK] init failed: {e} → falling back to IDW.\")\n",
    "            use_idw_all = True\n",
    "\n",
    "    # Predict in batches\n",
    "    if n_tgt > 0:\n",
    "        for start in range(0, n_tgt, BATCH_TARGETS):\n",
    "            stop = min(start + BATCH_TARGETS, n_tgt)\n",
    "            idx = slice(start, stop)\n",
    "            xt, yt = x[ty[idx], tx[idx]], y[ty[idx], tx[idx]]\n",
    "\n",
    "            if not use_idw_all:\n",
    "                try:\n",
    "                    z_hat, ss = ok.execute(\n",
    "                        style='points',\n",
    "                        xpoints=xt, ypoints=yt,\n",
    "                        n_closest_points=int(N_CLOSEST_POINTS),\n",
    "                        backend='loop'\n",
    "                    )\n",
    "                    z_hat = np.asarray(z_hat).ravel()\n",
    "                    ss    = np.asarray(ss).ravel()\n",
    "                except (MemoryError, Exception) as e:\n",
    "                    log(f\"[OK] batch {start}:{stop} failed ({e}); switching this batch to IDW.\")\n",
    "                    z_hat, ss = idw_points(xo, yo, zo, xt, yt, k=int(N_CLOSEST_POINTS),\n",
    "                                           radius=max(krange*2.0, MIN_RADIUS_M))\n",
    "            else:\n",
    "                z_hat, ss = idw_points(xo, yo, zo, xt, yt, k=int(N_CLOSEST_POINTS),\n",
    "                                       radius=max(krange*2.0, MIN_RADIUS_M))\n",
    "\n",
    "            logA_out[ty[idx], tx[idx]] = z_hat\n",
    "            var_map [ty[idx], tx[idx]] = ss\n",
    "\n",
    "            if stop == n_tgt:\n",
    "                log(f\"  filled {stop:,}/{n_tgt:,}\")\n",
    "\n",
    "    # Back-transform & masks\n",
    "    chl_before = chl.copy()\n",
    "    chl_after  = np.full_like(chl, np.nan, float)\n",
    "    m = np.isfinite(logA_out)\n",
    "    chl_after[m] = 10**logA_out[m]\n",
    "\n",
    "    where_filled = np.isfinite(chl_after) & (~np.isfinite(chl_before) | (chl_before <= 0))\n",
    "    if land_mask is not None and land_mask.shape == chl.shape:\n",
    "        where_filled &= ~land_mask\n",
    "\n",
    "    # Confidence (invert variance across filled pixels; normalize 5–95%)\n",
    "    conf = np.full_like(var_map, np.nan, float)\n",
    "    fv = np.isfinite(var_map) & where_filled\n",
    "    if np.any(fv):\n",
    "        vmin = np.nanpercentile(var_map[fv], 5)\n",
    "        vmax = np.nanpercentile(var_map[fv], 95)\n",
    "        if vmax > vmin:\n",
    "            conf[fv] = 1.0 - (var_map[fv] - vmin) / (vmax - vmin)\n",
    "            conf[fv] = np.clip(conf[fv], 0, 1)\n",
    "        else:\n",
    "            conf[fv] = 1.0\n",
    "\n",
    "    return chl_before, chl_after, where_filled, conf\n",
    "\n",
    "\n",
    "# ======================= DIAGNOSTICS =======================\n",
    "def _nearest_rc_for_latlon(TLAT, TLON, LAT, LON):\n",
    "    X, Y = latlon_to_xy_m(LAT, LON)\n",
    "    R = 6371000.0\n",
    "    xt = np.deg2rad(TLON) * cos(np.deg2rad(float(np.nanmedian(LAT)))) * R\n",
    "    yt = np.deg2rad(TLAT) * R\n",
    "    d2 = (X - xt)**2 + (Y - yt)**2\n",
    "    return np.unravel_index(int(np.nanargmin(d2)), LAT.shape)\n",
    "\n",
    "def _summ(vals, mask):\n",
    "    n = int(np.count_nonzero(mask))\n",
    "    if n == 0:\n",
    "        return {\"mean\": None, \"median\": None, \"variance\": None, \"valid\": 0, \"total\": int(vals.size)}\n",
    "    return {\n",
    "        \"mean\":     float(np.nanmean(vals[mask])),\n",
    "        \"median\":   float(np.nanmedian(vals[mask])),\n",
    "        \"variance\": float(np.nanvar(vals[mask])),\n",
    "        \"valid\":    n,\n",
    "        \"total\":    int(vals.size),\n",
    "    }\n",
    "\n",
    "def _window_bounds(r, c, size, H, W):\n",
    "    half = (size - 1) // 2\n",
    "    r0 = max(0, r - half); r1 = min(H, r + half + 1)\n",
    "    c0 = max(0, c - half); c1 = min(W, c + half + 1)\n",
    "    return r0, r1, c0, c1\n",
    "\n",
    "def _window_stats(val_arr, conf_arr, r, c, size, land=None):\n",
    "    H, W = val_arr.shape\n",
    "    r0, r1, c0, c1 = _window_bounds(r, c, size, H, W)\n",
    "    win_val  = val_arr[r0:r1, c0:c1]\n",
    "    win_conf = conf_arr[r0:r1, c0:c1] if (conf_arr is not None and conf_arr.shape == val_arr.shape) else None\n",
    "    if land is not None and isinstance(land, np.ndarray) and land.shape == val_arr.shape:\n",
    "        land_win = land[r0:r1, c0:c1]\n",
    "        win_val  = np.where(land_win, np.nan, win_val)\n",
    "        if win_conf is not None:\n",
    "            win_conf = np.where(land_win, np.nan, win_conf)\n",
    "    m_val  = np.isfinite(win_val)\n",
    "    out = {\"chl\": _summ(win_val, m_val), \"r0\": r0, \"r1\": r1, \"c0\": c0, \"c1\": c1}\n",
    "    if win_conf is not None:\n",
    "        m_conf = np.isfinite(win_conf)\n",
    "        out[\"confidence\"] = _summ(win_conf, m_conf)\n",
    "    return out\n",
    "\n",
    "def _nonkrige_mean(arr, land, r, c, size):\n",
    "    H, W = arr.shape\n",
    "    r0, r1, c0, c1 = _window_bounds(r, c, size, H, W)\n",
    "    win = arr[r0:r1, c0:c1]\n",
    "    m = np.isfinite(win) & (win > 0) & (~land[r0:r1, c0:c1])\n",
    "    return float(np.nanmean(win[m])) if np.any(m) else None\n",
    "\n",
    "def compute_diagnostics(chl_before, chl_after, conf, land_mask, lat, lon,\n",
    "                        insitu_value=None, target_lat=None, target_lon=None, csv_row=None):\n",
    "    H, W = chl_after.shape\n",
    "    if (target_lat is not None) and (target_lon is not None):\n",
    "        rr, cc = _nearest_rc_for_latlon(target_lat, target_lon, lat, lon)\n",
    "    elif csv_row is not None and pd.notna(csv_row.get(\"nearest_row\")) and pd.notna(csv_row.get(\"nearest_col\")):\n",
    "        rr, cc = int(csv_row.get(\"nearest_row\")), int(csv_row.get(\"nearest_col\"))\n",
    "        rr = min(max(0, rr), H-1); cc = min(max(0, cc), W-1)\n",
    "    else:\n",
    "        rr = H//2; cc = W//2\n",
    "\n",
    "    # Early skip if the original 10×10 has no valid water\n",
    "    r0s, r1s, c0s, c1s = _window_bounds(rr, cc, 10, H, W)\n",
    "    orig10 = chl_before[r0s:r1s, c0s:c1s]\n",
    "    orig10_valid = np.isfinite(orig10) & (orig10 > 0) & (~land_mask[r0s:r1s, c0s:c1s])\n",
    "    if int(np.count_nonzero(orig10_valid)) == 0:\n",
    "        return {\"skip\": True, \"reason\": \"No valid (>0) water pixels in original 10x10 neighborhood.\"}\n",
    "\n",
    "    center_val  = float(chl_after[rr, cc]) if np.isfinite(chl_after[rr, cc]) else None\n",
    "    center_conf = float(conf[rr, cc]) if (conf is not None and np.isfinite(conf[rr, cc])) else None\n",
    "    on_land     = bool(land_mask[rr, cc])\n",
    "\n",
    "    s3  = _window_stats(chl_after, conf, rr, cc, 3,  land_mask)\n",
    "    s5  = _window_stats(chl_after, conf, rr, cc, 5,  land_mask)\n",
    "    s10 = _window_stats(chl_after, conf, rr, cc, 11, land_mask)\n",
    "\n",
    "    # Envelope & robust z on 10x10\n",
    "    r0, r1, c0, c1 = s10[\"r0\"], s10[\"r1\"], s10[\"c0\"], s10[\"c1\"]\n",
    "    win10 = chl_after[r0:r1, c0:c1]\n",
    "    m10   = np.isfinite(win10)\n",
    "    local_q10 = float(np.nanpercentile(win10[m10], 10)) if np.any(m10) else None\n",
    "    local_q90 = float(np.nanpercentile(win10[m10], 90)) if np.any(m10) else None\n",
    "    within_envelope = None\n",
    "    if (center_val is not None) and (local_q10 is not None) and (local_q90 is not None):\n",
    "        within_envelope = bool((center_val >= local_q10) and (center_val <= local_q90))\n",
    "    mad = float(np.nanmedian(np.abs(win10[m10] - np.nanmedian(win10[m10])))) if np.any(m10) else None\n",
    "    robust_z = None\n",
    "    if (mad is not None) and (mad > 0) and (center_val is not None):\n",
    "        robust_z = float((center_val - np.nanmedian(win10[m10])) / (1.4826*mad))\n",
    "    IQR_10 = float(np.nanpercentile(win10[m10], 75) - np.nanpercentile(win10[m10], 25)) if np.any(m10) else None\n",
    "\n",
    "    nearest_obs_dist = None\n",
    "    if HAVE_KDTREE:\n",
    "        try:\n",
    "            x, y = latlon_to_xy_m(lat, lon)\n",
    "            oy, ox = np.nonzero(np.isfinite(chl_before) & (chl_before > 0) & (~land_mask))\n",
    "            if oy.size > 0:\n",
    "                xo, yo = x[oy, ox], y[oy, ox]\n",
    "                tree = cKDTree(np.column_stack([xo.ravel(), yo.ravel()]))\n",
    "                d, _ = tree.query([x[rr,cc], y[rr,cc]], k=1)\n",
    "                nearest_obs_dist = float(d)\n",
    "        except Exception:\n",
    "            pass\n",
    "\n",
    "    # non-krige mean (orig) for |k−nk|\n",
    "    nk3 = _nonkrige_mean(chl_before, land_mask, rr, cc, 3)\n",
    "    k3_mean = s3[\"chl\"][\"mean\"]\n",
    "    abs_k_vs_nk = (abs(k3_mean - nk3) if (k3_mean is not None and nk3 is not None) else None)\n",
    "    abs_k_vs_is = (abs(k3_mean - insitu_value) if (k3_mean is not None and (insitu_value is not None)) else None)\n",
    "\n",
    "    return {\n",
    "        \"skip\": False,\n",
    "        \"row\": rr, \"col\": cc,\n",
    "        \"center_value_mg_m3\": center_val,\n",
    "        \"center_confidence\": center_conf,\n",
    "        \"on_land\": on_land,\n",
    "        \"stats\": {\"3x3\": s3, \"5x5\": s5, \"10x10\": s10},\n",
    "        \"local_q10\": local_q10, \"local_q90\": local_q90,\n",
    "        \"within_envelope\": within_envelope,\n",
    "        \"IQR_10x10\": IQR_10,\n",
    "        \"robust_z_10x10\": robust_z,\n",
    "        \"nearest_obs_dist\": nearest_obs_dist, \"nearest_obs_dist_units\": \"m\",\n",
    "        \"krige3x3_mean\": k3_mean,\n",
    "        \"nonkrige3x3_mean\": nk3,\n",
    "        \"abs_k_vs_nk\": abs_k_vs_nk,\n",
    "        \"abs_k_vs_is\": abs_k_vs_is,\n",
    "    }\n",
    "\n",
    "\n",
    "# ======================= NC WRITER (COPY INTO OUTPUT_DIR) =======================\n",
    "def write_seamless_nc_copy(src_nc, out_nc_path, A, WF, CF,\n",
    "                           group=\"geophysical_data\", src_var=\"chlor_a\"):\n",
    "    if not HAVE_NETCDF4:\n",
    "        raise RuntimeError(\"netCDF4 is required to write output.\")\n",
    "\n",
    "    H, W = A.shape\n",
    "    out_nc_path = str(out_nc_path)\n",
    "    shutil.copy2(src_nc, out_nc_path)\n",
    "\n",
    "    def _get_dims(nc_path, group=\"geophysical_data\", varname=\"chlor_a\"):\n",
    "        try:\n",
    "            with Dataset(nc_path, 'r') as nc:\n",
    "                if group in nc.groups and varname in nc.groups[group].variables:\n",
    "                    dims = nc.groups[group].variables[varname].dimensions\n",
    "                    if len(dims) >= 2:\n",
    "                        return dims[-2], dims[-1]\n",
    "        except Exception:\n",
    "            pass\n",
    "        return \"number_of_lines\", \"pixels_per_line\"\n",
    "\n",
    "    def _copy_attrs_from(nc_group, src_name):\n",
    "        attrs = {}\n",
    "        if src_name in nc_group.variables:\n",
    "            vsrc = nc_group.variables[src_name]\n",
    "            for k in vsrc.ncattrs():\n",
    "                if k != \"_FillValue\":\n",
    "                    try:\n",
    "                        attrs[k] = getattr(vsrc, k)\n",
    "                    except Exception:\n",
    "                        pass\n",
    "        return attrs\n",
    "\n",
    "    def _upsert(g, name, dtype, data, dims, attrs=None, fill_val=None, zlib=True, complevel=4):\n",
    "        if name in g.variables:\n",
    "            v = g.variables[name]\n",
    "            if v.shape != data.shape:\n",
    "                raise ValueError(f\"Existing var '{name}' has shape {v.shape}, expected {data.shape}.\")\n",
    "            v[:] = data\n",
    "        else:\n",
    "            kw = {}\n",
    "            try:\n",
    "                kw = {\"zlib\": zlib, \"complevel\": complevel}\n",
    "                if fill_val is not None:\n",
    "                    kw[\"_FillValue\"] = dtype(fill_val) if np.issubdtype(dtype, np.floating) else fill_val\n",
    "                v = g.createVariable(name, dtype, dimensions=dims, **kw)\n",
    "            except TypeError:\n",
    "                v = g.createVariable(name, dtype, dimensions=dims)\n",
    "                if fill_val is not None:\n",
    "                    try:\n",
    "                        setattr(v, \"_FillValue\", dtype(fill_val))\n",
    "                    except Exception:\n",
    "                        pass\n",
    "        v[:] = data\n",
    "        if attrs:\n",
    "            for k, val in attrs.items():\n",
    "                try:\n",
    "                    setattr(v, k, val)\n",
    "                except Exception:\n",
    "                    pass\n",
    "\n",
    "    with Dataset(out_nc_path, 'r+') as nc:\n",
    "        gname = group\n",
    "        g = nc.groups[gname] if gname in nc.groups else nc.createGroup(gname)\n",
    "        yd, xd = _get_dims(out_nc_path, gname, src_var)\n",
    "\n",
    "        if yd not in nc.dimensions: nc.createDimension(yd, H)\n",
    "        if xd not in nc.dimensions: nc.createDimension(xd, W)\n",
    "        dims = (yd, xd)\n",
    "\n",
    "        base_attrs = _copy_attrs_from(g, src_var)\n",
    "        base_attrs.update({\n",
    "            \"long_name\": \"Chlorophyll Concentration, gap-filled (OK/IDW, seamless global)\",\n",
    "            \"comment\": \"Single global OK (log10) with IDW fallback; LAND excluded.\",\n",
    "            \"source_variable\": src_var, \"units\": \"mg m-3\",\n",
    "        })\n",
    "        wf_attrs = {\"long_name\": \"Locations filled by interpolation\",\n",
    "                    \"flag_values\": \"0,1\", \"flag_meanings\": \"not_filled filled\"}\n",
    "        cf_attrs = {\"long_name\": \"Confidence (inverted/normalized kriging variance or IDW proxy)\",\n",
    "                    \"valid_min\": 0.0, \"valid_max\": 1.0,\n",
    "                    \"comment\": \"1=high; NaN outside filled water pixels.\"}\n",
    "\n",
    "        _upsert(g, \"chlor_a_filled\", np.float32, np.asarray(A,  dtype=np.float32), dims, base_attrs, fill_val=np.nan)\n",
    "        _upsert(g, \"where_filled\",   np.uint8,  np.asarray(WF, dtype=np.uint8),   dims, wf_attrs,   fill_val=0)\n",
    "        if CF is not None:\n",
    "            _upsert(g, \"confidence\", np.float32, np.asarray(CF, dtype=np.float32),   dims, cf_attrs,   fill_val=np.nan)\n",
    "\n",
    "        stamp = datetime.utcnow().strftime(\"%Y-%m-%dT%H:%M:%SZ\")\n",
    "        hist = getattr(nc, \"history\", \"\")\n",
    "        line = f\"{stamp} : added geophysical_data/chlor_a_filled, where_filled, confidence (seamless).\"\n",
    "        nc.history = (hist + \"\\n\" + line).strip()\n",
    "\n",
    "    return out_nc_path\n",
    "\n",
    "\n",
    "# ======================= MAIN (BATCH ALL ROWS) =======================\n",
    "def main():\n",
    "    if not SUMMARY_CSV.exists():\n",
    "        raise FileNotFoundError(f\"Summary CSV not found: {SUMMARY_CSV}\")\n",
    "\n",
    "    ensure_output_dir()\n",
    "\n",
    "    df = pd.read_csv(SUMMARY_CSV, dtype={\"file\": \"string\"})\n",
    "    if \"file\" not in df.columns:\n",
    "        raise RuntimeError(\"Summary CSV must include a 'file' column with .nc paths.\")\n",
    "    has_insitu = (\"in-situ chl-a\" in df.columns)\n",
    "\n",
    "    rows_out = []\n",
    "\n",
    "    for i, row in df.iterrows():\n",
    "        raw_nc_path = str(row[\"file\"] or \"\").strip()\n",
    "        if not raw_nc_path:\n",
    "            log(f\"[{i}] Empty 'file' — skip.\")\n",
    "            continue\n",
    "\n",
    "        insitu_value = None\n",
    "        if has_insitu:\n",
    "            try:\n",
    "                v = row[\"in-situ chl-a\"]\n",
    "                insitu_value = float(v) if pd.notna(v) else None\n",
    "            except Exception:\n",
    "                insitu_value = None\n",
    "\n",
    "        nc_path = remap_windows_path_to_local(raw_nc_path)\n",
    "        log(f\"[{i}] Input: {raw_nc_path}\")\n",
    "        log(f\"[{i}] Local: {nc_path}\")\n",
    "\n",
    "        if not nc_path.exists():\n",
    "            log(f\"[{i}] MISSING on local FS — skip.\")\n",
    "            rows_out.append({\"row_index_1based\": i+1, \"file_raw\": raw_nc_path, \"file_local\": str(nc_path), \"error\": \"missing file\"})\n",
    "            continue\n",
    "\n",
    "        base = Path(nc_path).stem\n",
    "        try:\n",
    "            # Load scene\n",
    "            chl, lat, lon, land_mask, have_geo = load_scene(str(nc_path), group=GROUP, varname=VARNAME)\n",
    "            H, W = chl.shape\n",
    "            land_pct = 100.0 * (np.sum(land_mask) / (H*W)) if land_mask is not None else 0.0\n",
    "            log(f\"[{i}] Scene: {H}x{W}, geo={have_geo}, land≈{land_pct:.1f}%\")\n",
    "\n",
    "            # Seamless/global OK + IDW\n",
    "            chl_before, chl_after, where_filled, conf = fill_seamless_ok(chl, lat, lon, land_mask)\n",
    "            n_filled = int(np.sum(where_filled))\n",
    "            log(f\"[{i}] Newly filled pixels: {n_filled}\")\n",
    "\n",
    "            # Save PNGs\n",
    "            out_png_orig  = OUTPUT_DIR / f\"{base}_orig_masked.png\"\n",
    "            out_png_fill  = OUTPUT_DIR / f\"{base}_filled.png\"\n",
    "            out_png_where = OUTPUT_DIR / f\"{base}_where_filled.png\"\n",
    "            out_png_conf  = OUTPUT_DIR / f\"{base}_confidence.png\"\n",
    "\n",
    "            save_png(np.where(land_mask, np.nan, chl_before), out_png_orig,  vmin=CHL_VMIN, vmax=CHL_VMAX, cmap='viridis')\n",
    "            save_png(np.where(land_mask, np.nan, chl_after),  out_png_fill,  vmin=CHL_VMIN, vmax=CHL_VMAX, cmap='viridis')\n",
    "            save_png(where_filled.astype(float),              out_png_where, vmin=0,        vmax=1,        cmap='gray')\n",
    "            save_png(conf,                                     out_png_conf, vmin=0,        vmax=1,        cmap='viridis')\n",
    "\n",
    "            # Save GeoTIFFs (if rectilinear)\n",
    "            if HAVE_RASTERIO:\n",
    "                transform, crs = compute_rectilinear_transform(lat, lon)\n",
    "                if transform is not None and crs is not None:\n",
    "                    out_tif_orig  = OUTPUT_DIR / f\"{base}_orig_masked.tif\"\n",
    "                    out_tif_fill  = OUTPUT_DIR / f\"{base}_filled.tif\"\n",
    "                    out_tif_where = OUTPUT_DIR / f\"{base}_where_filled.tif\"\n",
    "                    out_tif_conf  = OUTPUT_DIR / f\"{base}_confidence.tif\"\n",
    "\n",
    "                    save_geotiff(np.where(land_mask, np.nan, chl_before).astype(np.float32), out_tif_orig,  transform, crs)\n",
    "                    save_geotiff(np.where(land_mask, np.nan, chl_after ).astype(np.float32), out_tif_fill,  transform, crs)\n",
    "                    save_geotiff(where_filled.astype(np.uint8),                              out_tif_where, transform, crs, nodata=0, dtype=np.uint8)\n",
    "                    save_geotiff(np.asarray(conf, dtype=np.float32),                         out_tif_conf,  transform, crs)\n",
    "                else:\n",
    "                    log(f\"[{i}] GeoTIFF skipped (non-rectilinear grid or no rasterio).\")\n",
    "\n",
    "            # Write _seamless.nc copy into OUTPUT_DIR\n",
    "            out_nc = None\n",
    "            if HAVE_NETCDF4:\n",
    "                out_nc = OUTPUT_DIR / f\"{base}_seamless.nc\"\n",
    "                write_seamless_nc_copy(str(nc_path), out_nc, chl_after, where_filled, conf, group=GROUP, src_var=VARNAME)\n",
    "                log(f\"[{i}] seamless.nc written: {out_nc}\")\n",
    "            else:\n",
    "                log(f\"[{i}] netCDF4 not available; seamless.nc skipped.\")\n",
    "\n",
    "            # Diagnostics at target\n",
    "            diag = compute_diagnostics(\n",
    "                chl_before, chl_after, conf, land_mask, lat, lon,\n",
    "                insitu_value=insitu_value,\n",
    "                target_lat=TARGET_LAT, target_lon=TARGET_LON, csv_row=None\n",
    "            )\n",
    "\n",
    "            # Flatten to CSV row\n",
    "            def _flat(prefix, d):\n",
    "                out = {}\n",
    "                if d is None: return out\n",
    "                for k, v in d.items():\n",
    "                    if isinstance(v, dict):\n",
    "                        for k2, v2 in v.items():\n",
    "                            out[f\"{prefix}.{k}.{k2}\"] = v2\n",
    "                    else:\n",
    "                        out[f\"{prefix}.{k}\"] = v\n",
    "                return out\n",
    "\n",
    "            if diag.get(\"skip\", False):\n",
    "                rec = {\n",
    "                    \"row_index_1based\": i+1,\n",
    "                    \"file_raw\": raw_nc_path,\n",
    "                    \"file_local\": str(nc_path),\n",
    "                    \"skip\": True,\n",
    "                    \"skip_reason\": diag.get(\"reason\"),\n",
    "                    \"scene_H\": H, \"scene_W\": W, \"have_geo\": bool(have_geo), \"land_pct\": land_pct,\n",
    "                    \"filled_pixels\": n_filled,\n",
    "                    \"outputs_dir\": str(OUTPUT_DIR),\n",
    "                    \"out_nc\": str(out_nc) if out_nc else \"\",\n",
    "                }\n",
    "            else:\n",
    "                rec = {\n",
    "                    \"row_index_1based\": i+1,\n",
    "                    \"file_raw\": raw_nc_path,\n",
    "                    \"file_local\": str(nc_path),\n",
    "                    \"scene_H\": H, \"scene_W\": W,\n",
    "                    \"have_geo\": bool(have_geo),\n",
    "                    \"land_pct\": land_pct,\n",
    "                    \"filled_pixels\": n_filled,\n",
    "                    \"outputs_dir\": str(OUTPUT_DIR),\n",
    "                    \"out_nc\": str(out_nc) if out_nc else \"\",\n",
    "                    \"target_row\": diag[\"row\"],\n",
    "                    \"target_col\": diag[\"col\"],\n",
    "                    \"center_value_mg_m3\": diag[\"center_value_mg_m3\"],\n",
    "                    \"center_confidence\": diag[\"center_confidence\"],\n",
    "                    \"on_land\": diag[\"on_land\"],\n",
    "                    \"local_q10\": diag[\"local_q10\"],\n",
    "                    \"local_q90\": diag[\"local_q90\"],\n",
    "                    \"within_envelope\": diag[\"within_envelope\"],\n",
    "                    \"IQR_10x10\": diag[\"IQR_10x10\"],\n",
    "                    \"robust_z_10x10\": diag[\"robust_z_10x10\"],\n",
    "                    \"nearest_obs_dist_m\": diag[\"nearest_obs_dist\"],\n",
    "                    \"krige3x3_mean\": diag[\"krige3x3_mean\"],\n",
    "                    \"krige3x3_median\":   diag[\"stats\"][\"3x3\"][\"chl\"][\"median\"],\n",
    "                    \"krige5x5_mean\":     diag[\"stats\"][\"5x5\"][\"chl\"][\"mean\"],\n",
    "                    \"krige5x5_median\":   diag[\"stats\"][\"5x5\"][\"chl\"][\"median\"],\n",
    "                    \"krige10x10_mean\":   diag[\"stats\"][\"10x10\"][\"chl\"][\"mean\"],\n",
    "                    \"krige10x10_median\": diag[\"stats\"][\"10x10\"][\"chl\"][\"median\"],\n",
    "                    \"insitu_value\": insitu_value,\n",
    "                    \"abs_k_vs_nk\": diag[\"abs_k_vs_nk\"],\n",
    "                    \"abs_k_vs_is\": diag[\"abs_k_vs_is\"],\n",
    "                }\n",
    "                # Optional: flatten full stats blocks too\n",
    "                for wnd in (\"3x3\",\"5x5\",\"10x10\"):\n",
    "                    ws = diag[\"stats\"].get(wnd, {})\n",
    "                    rec.update(_flat(f\"stats.{wnd}\", ws))\n",
    "\n",
    "            rows_out.append(rec)\n",
    "\n",
    "        except Exception as e:\n",
    "            log(f\"[{i}] ERROR: {Path(nc_path).name} → {e}\")\n",
    "            rows_out.append({\n",
    "                \"row_index_1based\": i+1,\n",
    "                \"file_raw\": raw_nc_path,\n",
    "                \"file_local\": str(nc_path),\n",
    "                \"outputs_dir\": str(OUTPUT_DIR),\n",
    "                \"error\": str(e)\n",
    "            })\n",
    "\n",
    "    # Save CSV in OUTPUT_DIR\n",
    "    out_csv = OUTPUT_DIR / f\"{SITE}_krige_stats_v3.csv\"\n",
    "    pd.DataFrame(rows_out).to_csv(out_csv, index=False)\n",
    "    log(f\"CSV written: {out_csv}\")\n",
    "\n",
    "if __name__ == \"__main__\":\n",
    "    main()\n"
   ]
  }
 ],
 "metadata": {
  "kernelspec": {
   "display_name": ".venv",
   "language": "python",
   "name": "python3"
  },
  "language_info": {
   "codemirror_mode": {
    "name": "ipython",
    "version": 3
   },
   "file_extension": ".py",
   "mimetype": "text/x-python",
   "name": "python",
   "nbconvert_exporter": "python",
   "pygments_lexer": "ipython3",
   "version": "3.12.11"
  }
 },
 "nbformat": 4,
 "nbformat_minor": 5
}
